{
 "cells": [
  {
   "cell_type": "markdown",
   "metadata": {},
   "source": [
    "# Sp char yield model run"
   ]
  },
  {
   "cell_type": "markdown",
   "metadata": {},
   "source": [
    "### Import the relevant libraries"
   ]
  },
  {
   "cell_type": "code",
   "execution_count": 1,
   "metadata": {},
   "outputs": [
    {
     "name": "stdout",
     "output_type": "stream",
     "text": [
      "INFO:tensorflow:Enabling eager execution\n",
      "INFO:tensorflow:Enabling v2 tensorshape\n",
      "INFO:tensorflow:Enabling resource variables\n",
      "INFO:tensorflow:Enabling tensor equality\n",
      "INFO:tensorflow:Enabling control flow v2\n"
     ]
    }
   ],
   "source": [
    "import numpy as np\n",
    "import tensorflow as tf\n",
    "import statsmodels.api as sm\n",
    "import seaborn as sns\n",
    "sns.set()"
   ]
  },
  {
   "cell_type": "markdown",
   "metadata": {},
   "source": [
    "### Data"
   ]
  },
  {
   "cell_type": "code",
   "execution_count": 2,
   "metadata": {},
   "outputs": [],
   "source": [
    "npz = np.load('sp10.npz')\n",
    "\n",
    "\n",
    "train_inputs = npz['inputs'].astype(np.float)\n",
    "train_targets = npz['targets'].astype(np.float)\n",
    "\n",
    "npz = np.load('sp11.npz')\n",
    "validation_inputs, validation_targets = npz['inputs'].astype(np.float), npz['targets'].astype(np.float)\n",
    "\n",
    "npz = np.load('sp12.npz')\n",
    "test_inputs, test_targets = npz['inputs'].astype(np.float), npz['targets'].astype(np.float)"
   ]
  },
  {
   "cell_type": "markdown",
   "metadata": {},
   "source": [
    "### Model\n",
    "Outline, optimizers, loss, early stopping and training"
   ]
  },
  {
   "cell_type": "code",
   "execution_count": 267,
   "metadata": {},
   "outputs": [
    {
     "name": "stdout",
     "output_type": "stream",
     "text": [
      "Epoch 1/150\n",
      "4/4 - 1s - loss: 0.5243 - val_loss: 0.3034\n",
      "Epoch 2/150\n",
      "4/4 - 0s - loss: 0.3232 - val_loss: 0.3294\n",
      "Epoch 3/150\n",
      "4/4 - 0s - loss: 0.2800 - val_loss: 0.2450\n",
      "Epoch 4/150\n",
      "4/4 - 0s - loss: 0.2241 - val_loss: 0.2373\n",
      "Epoch 5/150\n",
      "4/4 - 0s - loss: 0.2102 - val_loss: 0.2017\n",
      "Epoch 6/150\n",
      "4/4 - 0s - loss: 0.1918 - val_loss: 0.1851\n",
      "Epoch 7/150\n",
      "4/4 - 0s - loss: 0.1815 - val_loss: 0.1777\n",
      "Epoch 8/150\n",
      "4/4 - 0s - loss: 0.1688 - val_loss: 0.1448\n",
      "Epoch 9/150\n",
      "4/4 - 0s - loss: 0.1467 - val_loss: 0.1170\n",
      "Epoch 10/150\n",
      "4/4 - 0s - loss: 0.1458 - val_loss: 0.1113\n",
      "Epoch 11/150\n",
      "4/4 - 0s - loss: 0.1411 - val_loss: 0.1410\n",
      "Epoch 12/150\n",
      "4/4 - 0s - loss: 0.1370 - val_loss: 0.1540\n",
      "Epoch 13/150\n",
      "4/4 - 0s - loss: 0.1289 - val_loss: 0.1182\n",
      "Epoch 14/150\n",
      "4/4 - 0s - loss: 0.1177 - val_loss: 0.0952\n",
      "Epoch 15/150\n",
      "4/4 - 0s - loss: 0.1174 - val_loss: 0.1064\n",
      "Epoch 16/150\n",
      "4/4 - 0s - loss: 0.1124 - val_loss: 0.1096\n",
      "Epoch 17/150\n",
      "4/4 - 0s - loss: 0.1150 - val_loss: 0.1446\n",
      "Epoch 18/150\n",
      "4/4 - 0s - loss: 0.1208 - val_loss: 0.1000\n",
      "Epoch 19/150\n",
      "4/4 - 0s - loss: 0.1015 - val_loss: 0.0898\n",
      "Epoch 20/150\n",
      "4/4 - 0s - loss: 0.1047 - val_loss: 0.1087\n",
      "Epoch 21/150\n",
      "4/4 - 0s - loss: 0.1028 - val_loss: 0.0878\n",
      "Epoch 22/150\n",
      "4/4 - 0s - loss: 0.1040 - val_loss: 0.0979\n",
      "Epoch 23/150\n",
      "4/4 - 0s - loss: 0.1164 - val_loss: 0.0871\n",
      "Epoch 24/150\n",
      "4/4 - 0s - loss: 0.0968 - val_loss: 0.1231\n",
      "Epoch 25/150\n",
      "4/4 - 0s - loss: 0.0996 - val_loss: 0.0843\n",
      "Epoch 26/150\n",
      "4/4 - 0s - loss: 0.0993 - val_loss: 0.0956\n",
      "Epoch 27/150\n",
      "4/4 - 0s - loss: 0.1055 - val_loss: 0.0852\n",
      "Epoch 28/150\n",
      "4/4 - 0s - loss: 0.0904 - val_loss: 0.1021\n",
      "Epoch 29/150\n",
      "4/4 - 0s - loss: 0.0949 - val_loss: 0.0757\n",
      "Epoch 30/150\n",
      "4/4 - 0s - loss: 0.0978 - val_loss: 0.0765\n",
      "Epoch 31/150\n",
      "4/4 - 0s - loss: 0.0944 - val_loss: 0.1238\n",
      "Epoch 32/150\n",
      "4/4 - 0s - loss: 0.1128 - val_loss: 0.1570\n",
      "Epoch 33/150\n",
      "4/4 - 0s - loss: 0.1008 - val_loss: 0.0799\n",
      "Epoch 34/150\n",
      "4/4 - 0s - loss: 0.1152 - val_loss: 0.0799\n",
      "Epoch 35/150\n",
      "4/4 - 0s - loss: 0.1012 - val_loss: 0.1246\n",
      "Epoch 36/150\n",
      "4/4 - 0s - loss: 0.0987 - val_loss: 0.0909\n",
      "Epoch 37/150\n",
      "4/4 - 0s - loss: 0.0868 - val_loss: 0.0729\n",
      "Epoch 38/150\n",
      "4/4 - 0s - loss: 0.0955 - val_loss: 0.0772\n",
      "Epoch 39/150\n",
      "4/4 - 0s - loss: 0.0856 - val_loss: 0.0849\n",
      "Epoch 40/150\n",
      "4/4 - 0s - loss: 0.0876 - val_loss: 0.0769\n",
      "Epoch 41/150\n",
      "4/4 - 0s - loss: 0.0850 - val_loss: 0.0789\n",
      "Epoch 42/150\n",
      "4/4 - 0s - loss: 0.0821 - val_loss: 0.0735\n",
      "Epoch 43/150\n",
      "4/4 - 0s - loss: 0.0817 - val_loss: 0.0941\n",
      "Epoch 44/150\n",
      "4/4 - 0s - loss: 0.0846 - val_loss: 0.0791\n",
      "Epoch 45/150\n",
      "4/4 - 0s - loss: 0.0865 - val_loss: 0.0655\n",
      "Epoch 46/150\n",
      "4/4 - 0s - loss: 0.0781 - val_loss: 0.1068\n",
      "Epoch 47/150\n",
      "4/4 - 0s - loss: 0.0962 - val_loss: 0.1027\n",
      "Epoch 48/150\n",
      "4/4 - 0s - loss: 0.0770 - val_loss: 0.0800\n",
      "Epoch 49/150\n",
      "4/4 - 0s - loss: 0.0897 - val_loss: 0.0800\n",
      "Epoch 50/150\n",
      "4/4 - 0s - loss: 0.0800 - val_loss: 0.1007\n",
      "Epoch 51/150\n",
      "4/4 - 0s - loss: 0.0826 - val_loss: 0.0737\n",
      "Epoch 52/150\n",
      "4/4 - 0s - loss: 0.0784 - val_loss: 0.0678\n",
      "Epoch 53/150\n",
      "4/4 - 0s - loss: 0.0734 - val_loss: 0.0927\n",
      "Epoch 54/150\n",
      "4/4 - 0s - loss: 0.0831 - val_loss: 0.0727\n",
      "Epoch 55/150\n",
      "4/4 - 0s - loss: 0.0765 - val_loss: 0.0727\n",
      "Epoch 56/150\n",
      "4/4 - 0s - loss: 0.0757 - val_loss: 0.0672\n",
      "Epoch 57/150\n",
      "4/4 - 0s - loss: 0.0777 - val_loss: 0.0672\n",
      "Epoch 58/150\n",
      "4/4 - 0s - loss: 0.0757 - val_loss: 0.0815\n",
      "Epoch 59/150\n",
      "4/4 - 0s - loss: 0.0754 - val_loss: 0.0655\n",
      "Epoch 60/150\n",
      "4/4 - 0s - loss: 0.0751 - val_loss: 0.0724\n",
      "Epoch 61/150\n",
      "4/4 - 0s - loss: 0.0777 - val_loss: 0.0653\n",
      "Epoch 62/150\n",
      "4/4 - 0s - loss: 0.0752 - val_loss: 0.1031\n",
      "Epoch 63/150\n",
      "4/4 - 0s - loss: 0.0799 - val_loss: 0.0952\n",
      "Epoch 64/150\n",
      "4/4 - 0s - loss: 0.0761 - val_loss: 0.0642\n",
      "Epoch 65/150\n",
      "4/4 - 0s - loss: 0.0711 - val_loss: 0.1112\n",
      "Epoch 66/150\n",
      "4/4 - 0s - loss: 0.0807 - val_loss: 0.0864\n",
      "Epoch 67/150\n",
      "4/4 - 0s - loss: 0.0721 - val_loss: 0.0642\n",
      "Epoch 68/150\n",
      "4/4 - 0s - loss: 0.0720 - val_loss: 0.0592\n",
      "Epoch 69/150\n",
      "4/4 - 0s - loss: 0.0716 - val_loss: 0.0575\n",
      "Epoch 70/150\n",
      "4/4 - 0s - loss: 0.0674 - val_loss: 0.0850\n",
      "Epoch 71/150\n",
      "4/4 - 0s - loss: 0.0769 - val_loss: 0.0888\n",
      "Epoch 72/150\n",
      "4/4 - 0s - loss: 0.0723 - val_loss: 0.0692\n",
      "Epoch 73/150\n",
      "4/4 - 0s - loss: 0.0693 - val_loss: 0.0708\n",
      "Epoch 74/150\n",
      "4/4 - 0s - loss: 0.0687 - val_loss: 0.0680\n",
      "Epoch 75/150\n",
      "4/4 - 0s - loss: 0.0743 - val_loss: 0.0582\n",
      "Epoch 76/150\n",
      "4/4 - 0s - loss: 0.0722 - val_loss: 0.0963\n",
      "Epoch 77/150\n",
      "4/4 - 0s - loss: 0.0721 - val_loss: 0.0823\n",
      "Epoch 78/150\n",
      "4/4 - 0s - loss: 0.0674 - val_loss: 0.0693\n",
      "Epoch 79/150\n",
      "4/4 - 0s - loss: 0.0676 - val_loss: 0.0686\n",
      "Epoch 80/150\n",
      "4/4 - 0s - loss: 0.0656 - val_loss: 0.0815\n",
      "Epoch 81/150\n",
      "4/4 - 0s - loss: 0.0727 - val_loss: 0.0794\n",
      "Epoch 82/150\n",
      "4/4 - 0s - loss: 0.0712 - val_loss: 0.0541\n",
      "Epoch 83/150\n",
      "4/4 - 0s - loss: 0.0683 - val_loss: 0.0703\n",
      "Epoch 84/150\n",
      "4/4 - 0s - loss: 0.0732 - val_loss: 0.1052\n",
      "Epoch 85/150\n",
      "4/4 - 0s - loss: 0.0635 - val_loss: 0.0562\n",
      "Epoch 86/150\n",
      "4/4 - 0s - loss: 0.0720 - val_loss: 0.0566\n",
      "Epoch 87/150\n",
      "4/4 - 0s - loss: 0.0641 - val_loss: 0.1155\n",
      "Epoch 88/150\n",
      "4/4 - 0s - loss: 0.0753 - val_loss: 0.0652\n",
      "Epoch 89/150\n",
      "4/4 - 0s - loss: 0.0733 - val_loss: 0.0704\n",
      "Epoch 90/150\n",
      "4/4 - 0s - loss: 0.0756 - val_loss: 0.0700\n",
      "Epoch 91/150\n",
      "4/4 - 0s - loss: 0.0617 - val_loss: 0.0744\n",
      "Epoch 92/150\n",
      "4/4 - 0s - loss: 0.0585 - val_loss: 0.0592\n",
      "Epoch 93/150\n",
      "4/4 - 0s - loss: 0.0610 - val_loss: 0.0551\n",
      "Epoch 94/150\n",
      "4/4 - 0s - loss: 0.0583 - val_loss: 0.0668\n",
      "Epoch 95/150\n",
      "4/4 - 0s - loss: 0.0583 - val_loss: 0.0520\n",
      "Epoch 96/150\n",
      "4/4 - 0s - loss: 0.0566 - val_loss: 0.0621\n",
      "Epoch 97/150\n",
      "4/4 - 0s - loss: 0.0606 - val_loss: 0.0596\n",
      "Epoch 98/150\n",
      "4/4 - 0s - loss: 0.0548 - val_loss: 0.0941\n",
      "Epoch 99/150\n",
      "4/4 - 0s - loss: 0.0728 - val_loss: 0.0666\n",
      "Epoch 100/150\n",
      "4/4 - 0s - loss: 0.0515 - val_loss: 0.0619\n",
      "Epoch 101/150\n",
      "4/4 - 0s - loss: 0.0740 - val_loss: 0.0579\n",
      "Epoch 102/150\n",
      "4/4 - 0s - loss: 0.0693 - val_loss: 0.0943\n",
      "Epoch 103/150\n",
      "4/4 - 0s - loss: 0.0623 - val_loss: 0.0593\n",
      "Epoch 104/150\n",
      "4/4 - 0s - loss: 0.0557 - val_loss: 0.0715\n",
      "Epoch 105/150\n",
      "4/4 - 0s - loss: 0.0621 - val_loss: 0.0636\n",
      "Epoch 106/150\n",
      "4/4 - 0s - loss: 0.0606 - val_loss: 0.0649\n",
      "Epoch 107/150\n",
      "4/4 - 0s - loss: 0.0558 - val_loss: 0.1056\n",
      "Epoch 108/150\n",
      "4/4 - 0s - loss: 0.0813 - val_loss: 0.1266\n",
      "Epoch 109/150\n",
      "4/4 - 0s - loss: 0.0699 - val_loss: 0.0631\n",
      "Epoch 110/150\n",
      "4/4 - 0s - loss: 0.0689 - val_loss: 0.0609\n",
      "Epoch 111/150\n",
      "4/4 - 0s - loss: 0.0578 - val_loss: 0.1080\n",
      "Epoch 112/150\n",
      "4/4 - 0s - loss: 0.0675 - val_loss: 0.0793\n",
      "Epoch 113/150\n",
      "4/4 - 0s - loss: 0.0557 - val_loss: 0.0524\n",
      "Epoch 114/150\n",
      "4/4 - 0s - loss: 0.0548 - val_loss: 0.0574\n",
      "Epoch 115/150\n",
      "4/4 - 0s - loss: 0.0608 - val_loss: 0.0423\n",
      "Epoch 116/150\n",
      "4/4 - 0s - loss: 0.0711 - val_loss: 0.0497\n",
      "Epoch 117/150\n",
      "4/4 - 0s - loss: 0.0564 - val_loss: 0.0618\n",
      "Epoch 118/150\n",
      "4/4 - 0s - loss: 0.0515 - val_loss: 0.0462\n",
      "Epoch 119/150\n",
      "4/4 - 0s - loss: 0.0520 - val_loss: 0.0506\n",
      "Epoch 120/150\n",
      "4/4 - 0s - loss: 0.0535 - val_loss: 0.0587\n",
      "Epoch 121/150\n",
      "4/4 - 0s - loss: 0.0555 - val_loss: 0.0646\n",
      "Epoch 122/150\n",
      "4/4 - 0s - loss: 0.0512 - val_loss: 0.0468\n",
      "Epoch 123/150\n",
      "4/4 - 0s - loss: 0.0546 - val_loss: 0.0524\n",
      "Epoch 124/150\n",
      "4/4 - 0s - loss: 0.0589 - val_loss: 0.0449\n",
      "Epoch 125/150\n",
      "4/4 - 0s - loss: 0.0658 - val_loss: 0.0529\n",
      "Epoch 126/150\n",
      "4/4 - 0s - loss: 0.0612 - val_loss: 0.0506\n",
      "Epoch 127/150\n",
      "4/4 - 0s - loss: 0.0505 - val_loss: 0.0424\n",
      "Epoch 128/150\n",
      "4/4 - 0s - loss: 0.0549 - val_loss: 0.0525\n",
      "Epoch 129/150\n",
      "4/4 - 0s - loss: 0.0570 - val_loss: 0.0630\n",
      "Epoch 130/150\n",
      "4/4 - 0s - loss: 0.0545 - val_loss: 0.0465\n",
      "Epoch 131/150\n",
      "4/4 - 0s - loss: 0.0500 - val_loss: 0.0541\n",
      "Epoch 132/150\n",
      "4/4 - 0s - loss: 0.0483 - val_loss: 0.0495\n",
      "Epoch 133/150\n",
      "4/4 - 0s - loss: 0.0520 - val_loss: 0.0498\n",
      "Epoch 134/150\n",
      "4/4 - 0s - loss: 0.0500 - val_loss: 0.0436\n",
      "Epoch 135/150\n",
      "4/4 - 0s - loss: 0.0458 - val_loss: 0.0502\n",
      "Epoch 136/150\n",
      "4/4 - 0s - loss: 0.0481 - val_loss: 0.0428\n",
      "Epoch 137/150\n",
      "4/4 - 0s - loss: 0.0519 - val_loss: 0.0547\n",
      "Epoch 138/150\n",
      "4/4 - 0s - loss: 0.0493 - val_loss: 0.0533\n",
      "Epoch 139/150\n",
      "4/4 - 0s - loss: 0.0460 - val_loss: 0.0557\n",
      "Epoch 140/150\n",
      "4/4 - 0s - loss: 0.0472 - val_loss: 0.0721\n",
      "Epoch 141/150\n",
      "4/4 - 0s - loss: 0.0467 - val_loss: 0.0593\n",
      "Epoch 142/150\n",
      "4/4 - 0s - loss: 0.0483 - val_loss: 0.0859\n",
      "Epoch 143/150\n",
      "4/4 - 0s - loss: 0.0581 - val_loss: 0.0532\n",
      "Epoch 144/150\n",
      "4/4 - 0s - loss: 0.0522 - val_loss: 0.0467\n",
      "Epoch 145/150\n",
      "4/4 - 0s - loss: 0.0494 - val_loss: 0.0461\n",
      "Epoch 146/150\n",
      "4/4 - 0s - loss: 0.0475 - val_loss: 0.0451\n"
     ]
    },
    {
     "name": "stdout",
     "output_type": "stream",
     "text": [
      "Epoch 147/150\n",
      "4/4 - 0s - loss: 0.0548 - val_loss: 0.0541\n",
      "Epoch 148/150\n",
      "4/4 - 0s - loss: 0.0437 - val_loss: 0.0737\n",
      "Epoch 149/150\n",
      "4/4 - 0s - loss: 0.0605 - val_loss: 0.0508\n",
      "Epoch 150/150\n",
      "4/4 - 0s - loss: 0.0462 - val_loss: 0.0472\n"
     ]
    },
    {
     "data": {
      "text/plain": [
       "<tensorflow.python.keras.callbacks.History at 0x2fee26c8>"
      ]
     },
     "execution_count": 267,
     "metadata": {},
     "output_type": "execute_result"
    }
   ],
   "source": [
    "input_size = 3\n",
    "output_size = 1\n",
    "hidden_layer_size = 50\n",
    "    \n",
    "model = tf.keras.Sequential([\n",
    "  \n",
    "    tf.keras.layers.Dense(hidden_layer_size,'relu'),\n",
    "    tf.keras.layers.Dense(hidden_layer_size,'relu'),\n",
    "\n",
    "    tf.keras.layers.Dense(output_size,'linear') \n",
    "])\n",
    "\n",
    "\n",
    "\n",
    "\n",
    "optimizer = tf.keras.optimizers.Adamax(learning_rate=0.01)\n",
    "\n",
    "model.compile(optimizer, loss='MAE')\n",
    "\n",
    "\n",
    "\n",
    "batch_size = 16\n",
    "\n",
    "max_epochs = 150\n",
    "\n",
    "\n",
    "early_stopping = tf.keras.callbacks.EarlyStopping(patience=2)\n",
    "\n",
    "\n",
    "model.fit(train_inputs, # train inputs\n",
    "          train_targets, # train targets\n",
    "          batch_size=batch_size, # batch size\n",
    "          epochs=max_epochs, \n",
    "         \n",
    "          validation_data=(validation_inputs, validation_targets), # validation data\n",
    "          verbose = 2 # making sure we get enough information about the training process\n",
    "          )  "
   ]
  },
  {
   "cell_type": "code",
   "execution_count": 279,
   "metadata": {},
   "outputs": [
    {
     "name": "stdout",
     "output_type": "stream",
     "text": [
      "1/1 - 0s - loss: 0.0778\n"
     ]
    },
    {
     "data": {
      "text/plain": [
       "0.07784195989370346"
      ]
     },
     "execution_count": 279,
     "metadata": {},
     "output_type": "execute_result"
    }
   ],
   "source": [
    "model.evaluate(test_inputs,test_targets,verbose=2)"
   ]
  },
  {
   "cell_type": "markdown",
   "metadata": {},
   "source": [
    "# train data evaluation"
   ]
  },
  {
   "cell_type": "code",
   "execution_count": 280,
   "metadata": {},
   "outputs": [
    {
     "data": {
      "text/plain": [
       "array([0.16, 0.47, 0.48, 0.68, 0.91, 0.56, 0.16, 0.24, 0.38, 0.4 , 0.05,\n",
       "       0.37, 0.34, 0.83, 0.83, 0.51, 0.47, 0.68, 0.44, 0.22, 0.68, 0.79,\n",
       "       0.42, 0.24, 0.64, 0.27, 0.4 , 0.97, 0.82, 0.03, 0.91, 0.63],\n",
       "      dtype=float32)"
      ]
     },
     "execution_count": 280,
     "metadata": {},
     "output_type": "execute_result"
    }
   ],
   "source": [
    "train_outputs=np.squeeze(model(train_inputs)).round(2)\n",
    "train_outputs"
   ]
  },
  {
   "cell_type": "code",
   "execution_count": 281,
   "metadata": {},
   "outputs": [
    {
     "data": {
      "text/plain": [
       "array([[0.17],\n",
       "       [0.54],\n",
       "       [0.47],\n",
       "       [0.75],\n",
       "       [0.98],\n",
       "       [0.59],\n",
       "       [0.17],\n",
       "       [0.24],\n",
       "       [0.38],\n",
       "       [0.41],\n",
       "       [0.  ],\n",
       "       [0.38],\n",
       "       [0.41],\n",
       "       [0.81],\n",
       "       [0.86],\n",
       "       [0.49],\n",
       "       [0.35],\n",
       "       [0.71],\n",
       "       [0.57],\n",
       "       [0.27],\n",
       "       [0.7 ],\n",
       "       [0.75],\n",
       "       [0.42],\n",
       "       [0.27],\n",
       "       [0.67],\n",
       "       [0.22],\n",
       "       [0.43],\n",
       "       [1.  ],\n",
       "       [0.88],\n",
       "       [0.06],\n",
       "       [0.92],\n",
       "       [0.64]])"
      ]
     },
     "execution_count": 281,
     "metadata": {},
     "output_type": "execute_result"
    }
   ],
   "source": [
    "train_targets.round(2)"
   ]
  },
  {
   "cell_type": "code",
   "execution_count": 282,
   "metadata": {},
   "outputs": [
    {
     "data": {
      "image/png": "[encoded data removed]",
      "text/plain": [
       "<Figure size 432x288 with 1 Axes>"
      ]
     },
     "metadata": {},
     "output_type": "display_data"
    }
   ],
   "source": [
    "import matplotlib.pyplot as plt\n",
    "plt.scatter(train_outputs,train_targets,label='data')\n",
    "x= train_outputs\n",
    "y=train_targets\n",
    "m, b = np.polyfit(x, y, 1)\n",
    "plt.plot(x, m*x + b,'r',label='fit')\n",
    "plt.legend(loc='lower right',title='R_squared=0.973',fontsize=10)\n",
    "plt.title('Training',fontsize=20)\n",
    "plt.xlabel('train_outputs',fontsize=20)\n",
    "plt.ylabel('train_targets',fontsize=20)\n",
    "plt.xlim(0,1)\n",
    "plt.ylim(0,1)\n",
    "plt.grid(True)\n",
    "plt.show()"
   ]
  },
  {
   "cell_type": "code",
   "execution_count": 283,
   "metadata": {},
   "outputs": [
    {
     "data": {
      "text/html": [
       "<table class=\"simpletable\">\n",
       "<caption>OLS Regression Results</caption>\n",
       "<tr>\n",
       "  <th>Dep. Variable:</th>            <td>y</td>        <th>  R-squared:         </th> <td>   0.973</td>\n",
       "</tr>\n",
       "<tr>\n",
       "  <th>Model:</th>                   <td>OLS</td>       <th>  Adj. R-squared:    </th> <td>   0.972</td>\n",
       "</tr>\n",
       "<tr>\n",
       "  <th>Method:</th>             <td>Least Squares</td>  <th>  F-statistic:       </th> <td>   1077.</td>\n",
       "</tr>\n",
       "<tr>\n",
       "  <th>Date:</th>             <td>Fri, 15 Jan 2021</td> <th>  Prob (F-statistic):</th> <td>4.60e-25</td>\n",
       "</tr>\n",
       "<tr>\n",
       "  <th>Time:</th>                 <td>20:20:37</td>     <th>  Log-Likelihood:    </th> <td>  54.527</td>\n",
       "</tr>\n",
       "<tr>\n",
       "  <th>No. Observations:</th>      <td>    32</td>      <th>  AIC:               </th> <td>  -105.1</td>\n",
       "</tr>\n",
       "<tr>\n",
       "  <th>Df Residuals:</th>          <td>    30</td>      <th>  BIC:               </th> <td>  -102.1</td>\n",
       "</tr>\n",
       "<tr>\n",
       "  <th>Df Model:</th>              <td>     1</td>      <th>                     </th>     <td> </td>   \n",
       "</tr>\n",
       "<tr>\n",
       "  <th>Covariance Type:</th>      <td>nonrobust</td>    <th>                     </th>     <td> </td>   \n",
       "</tr>\n",
       "</table>\n",
       "<table class=\"simpletable\">\n",
       "<tr>\n",
       "    <td></td>       <th>coef</th>     <th>std err</th>      <th>t</th>      <th>P>|t|</th>  <th>[0.025</th>    <th>0.975]</th>  \n",
       "</tr>\n",
       "<tr>\n",
       "  <th>const</th> <td>    0.0028</td> <td>    0.018</td> <td>    0.158</td> <td> 0.876</td> <td>   -0.033</td> <td>    0.039</td>\n",
       "</tr>\n",
       "<tr>\n",
       "  <th>x1</th>    <td>    1.0273</td> <td>    0.031</td> <td>   32.810</td> <td> 0.000</td> <td>    0.963</td> <td>    1.091</td>\n",
       "</tr>\n",
       "</table>\n",
       "<table class=\"simpletable\">\n",
       "<tr>\n",
       "  <th>Omnibus:</th>       <td> 5.161</td> <th>  Durbin-Watson:     </th> <td>   1.783</td>\n",
       "</tr>\n",
       "<tr>\n",
       "  <th>Prob(Omnibus):</th> <td> 0.076</td> <th>  Jarque-Bera (JB):  </th> <td>   4.873</td>\n",
       "</tr>\n",
       "<tr>\n",
       "  <th>Skew:</th>          <td>-0.293</td> <th>  Prob(JB):          </th> <td>  0.0875</td>\n",
       "</tr>\n",
       "<tr>\n",
       "  <th>Kurtosis:</th>      <td> 4.820</td> <th>  Cond. No.          </th> <td>    4.92</td>\n",
       "</tr>\n",
       "</table><br/><br/>Notes:<br/>[1] Standard Errors assume that the covariance matrix of the errors is correctly specified."
      ],
      "text/plain": [
       "<class 'statsmodels.iolib.summary.Summary'>\n",
       "\"\"\"\n",
       "                            OLS Regression Results                            \n",
       "==============================================================================\n",
       "Dep. Variable:                      y   R-squared:                       0.973\n",
       "Model:                            OLS   Adj. R-squared:                  0.972\n",
       "Method:                 Least Squares   F-statistic:                     1077.\n",
       "Date:                Fri, 15 Jan 2021   Prob (F-statistic):           4.60e-25\n",
       "Time:                        20:20:37   Log-Likelihood:                 54.527\n",
       "No. Observations:                  32   AIC:                            -105.1\n",
       "Df Residuals:                      30   BIC:                            -102.1\n",
       "Df Model:                           1                                         \n",
       "Covariance Type:            nonrobust                                         \n",
       "==============================================================================\n",
       "                 coef    std err          t      P>|t|      [0.025      0.975]\n",
       "------------------------------------------------------------------------------\n",
       "const          0.0028      0.018      0.158      0.876      -0.033       0.039\n",
       "x1             1.0273      0.031     32.810      0.000       0.963       1.091\n",
       "==============================================================================\n",
       "Omnibus:                        5.161   Durbin-Watson:                   1.783\n",
       "Prob(Omnibus):                  0.076   Jarque-Bera (JB):                4.873\n",
       "Skew:                          -0.293   Prob(JB):                       0.0875\n",
       "Kurtosis:                       4.820   Cond. No.                         4.92\n",
       "==============================================================================\n",
       "\n",
       "Notes:\n",
       "[1] Standard Errors assume that the covariance matrix of the errors is correctly specified.\n",
       "\"\"\""
      ]
     },
     "execution_count": 283,
     "metadata": {},
     "output_type": "execute_result"
    }
   ],
   "source": [
    "b = train_targets\n",
    "a1 = train_outputs\n",
    "a = sm.add_constant(a1)\n",
    "results = sm.OLS(b,a).fit()\n",
    "results.summary()"
   ]
  },
  {
   "cell_type": "markdown",
   "metadata": {},
   "source": [
    "# Test data evaluation"
   ]
  },
  {
   "cell_type": "code",
   "execution_count": 284,
   "metadata": {},
   "outputs": [
    {
     "data": {
      "text/plain": [
       "array([ 0.25,  0.73,  0.46,  0.08,  0.9 , -0.02,  0.49,  0.51],\n",
       "      dtype=float32)"
      ]
     },
     "execution_count": 284,
     "metadata": {},
     "output_type": "execute_result"
    }
   ],
   "source": [
    "test_outputs=np.squeeze(model(test_inputs)).round(2)\n",
    "test_outputs"
   ]
  },
  {
   "cell_type": "code",
   "execution_count": 285,
   "metadata": {},
   "outputs": [
    {
     "data": {
      "text/plain": [
       "array([[0.33],\n",
       "       [0.89],\n",
       "       [0.43],\n",
       "       [0.12],\n",
       "       [0.9 ],\n",
       "       [0.12],\n",
       "       [0.58],\n",
       "       [0.58]])"
      ]
     },
     "execution_count": 285,
     "metadata": {},
     "output_type": "execute_result"
    }
   ],
   "source": [
    "test_targets.round(2)"
   ]
  },
  {
   "cell_type": "markdown",
   "metadata": {},
   "source": [
    "## Average error"
   ]
  },
  {
   "cell_type": "code",
   "execution_count": 292,
   "metadata": {},
   "outputs": [
    {
     "name": "stdout",
     "output_type": "stream",
     "text": [
      "1/1 [==============================] - 0s 20ms/step - loss: 0.0778\n"
     ]
    },
    {
     "data": {
      "text/plain": [
       "('average error equals 1.4727698811888696',\n",
       " 'error percentage equals 4.266795727290522%')"
      ]
     },
     "execution_count": 292,
     "metadata": {},
     "output_type": "execute_result"
    }
   ],
   "source": [
    "a=model.evaluate(test_inputs,test_targets)*18.92\n",
    "\n",
    "   \n",
    "f'average error equals {a}', f'error percentage equals {(a/34.517)*100}%'"
   ]
  },
  {
   "cell_type": "code",
   "execution_count": 297,
   "metadata": {},
   "outputs": [
    {
     "name": "stdout",
     "output_type": "stream",
     "text": [
      "[0.08976445] [0.00237565]\n"
     ]
    }
   ],
   "source": [
    "p=[]\n",
    "for i in range(len(test_targets)):\n",
    "    a=abs(test_targets[i]-test_outputs[i])\n",
    "    p.append(a*18.92/34.517)\n",
    "print(max(p),min(p))"
   ]
  },
  {
   "cell_type": "code",
   "execution_count": 296,
   "metadata": {},
   "outputs": [
    {
     "name": "stdout",
     "output_type": "stream",
     "text": [
      "1/1 [==============================] - 0s 19ms/step - loss: 0.0778\n"
     ]
    },
    {
     "data": {
      "text/plain": [
       "('average error equals 1.4727698811888696',\n",
       " 'error percentage equals 4.266795727290522%')"
      ]
     },
     "execution_count": 296,
     "metadata": {},
     "output_type": "execute_result"
    }
   ],
   "source": [
    "a=model.evaluate(test_inputs,test_targets)*18.92\n",
    "\n",
    "   \n",
    "f'average error equals {a}', f'error percentage equals {(a/34.517)*100}%'"
   ]
  },
  {
   "cell_type": "code",
   "execution_count": 287,
   "metadata": {},
   "outputs": [
    {
     "data": {
      "image/png": "[encoded data removed]",
      "text/plain": [
       "<Figure size 432x288 with 1 Axes>"
      ]
     },
     "metadata": {},
     "output_type": "display_data"
    }
   ],
   "source": [
    "import matplotlib.pyplot as plt\n",
    "plt.scatter(test_outputs,test_targets,label='data')\n",
    "x= test_outputs\n",
    "y=test_targets\n",
    "m, b = np.polyfit(x, y, 1)\n",
    "plt.plot(x, m*x + b,'g',label='fit')\n",
    "plt.legend(loc='lower right',title='R_squared=0.958',fontsize=10)\n",
    "plt.title('Test',fontsize=20)\n",
    "plt.xlabel('test_outputs',fontsize=20)\n",
    "plt.ylabel('test_targets',fontsize=20)\n",
    "plt.xlim(0,1)\n",
    "plt.ylim(0,1)\n",
    "plt.grid(True)\n",
    "\n",
    "plt.show()"
   ]
  },
  {
   "cell_type": "code",
   "execution_count": 288,
   "metadata": {},
   "outputs": [
    {
     "name": "stderr",
     "output_type": "stream",
     "text": [
      "C:\\Users\\mady\\Anaconda3\\envs\\Mywork\\lib\\site-packages\\scipy\\stats\\stats.py:1604: UserWarning: kurtosistest only valid for n>=20 ... continuing anyway, n=8\n",
      "  \"anyway, n=%i\" % int(n))\n"
     ]
    },
    {
     "data": {
      "text/html": [
       "<table class=\"simpletable\">\n",
       "<caption>OLS Regression Results</caption>\n",
       "<tr>\n",
       "  <th>Dep. Variable:</th>            <td>y</td>        <th>  R-squared:         </th> <td>   0.958</td>\n",
       "</tr>\n",
       "<tr>\n",
       "  <th>Model:</th>                   <td>OLS</td>       <th>  Adj. R-squared:    </th> <td>   0.951</td>\n",
       "</tr>\n",
       "<tr>\n",
       "  <th>Method:</th>             <td>Least Squares</td>  <th>  F-statistic:       </th> <td>   137.1</td>\n",
       "</tr>\n",
       "<tr>\n",
       "  <th>Date:</th>             <td>Fri, 15 Jan 2021</td> <th>  Prob (F-statistic):</th> <td>2.34e-05</td>\n",
       "</tr>\n",
       "<tr>\n",
       "  <th>Time:</th>                 <td>20:20:44</td>     <th>  Log-Likelihood:    </th> <td>  11.307</td>\n",
       "</tr>\n",
       "<tr>\n",
       "  <th>No. Observations:</th>      <td>     8</td>      <th>  AIC:               </th> <td>  -18.61</td>\n",
       "</tr>\n",
       "<tr>\n",
       "  <th>Df Residuals:</th>          <td>     6</td>      <th>  BIC:               </th> <td>  -18.46</td>\n",
       "</tr>\n",
       "<tr>\n",
       "  <th>Df Model:</th>              <td>     1</td>      <th>                     </th>     <td> </td>   \n",
       "</tr>\n",
       "<tr>\n",
       "  <th>Covariance Type:</th>      <td>nonrobust</td>    <th>                     </th>     <td> </td>   \n",
       "</tr>\n",
       "</table>\n",
       "<table class=\"simpletable\">\n",
       "<tr>\n",
       "    <td></td>       <th>coef</th>     <th>std err</th>      <th>t</th>      <th>P>|t|</th>  <th>[0.025</th>    <th>0.975]</th>  \n",
       "</tr>\n",
       "<tr>\n",
       "  <th>const</th> <td>    0.0837</td> <td>    0.043</td> <td>    1.968</td> <td> 0.097</td> <td>   -0.020</td> <td>    0.188</td>\n",
       "</tr>\n",
       "<tr>\n",
       "  <th>x1</th>    <td>    0.9661</td> <td>    0.083</td> <td>   11.710</td> <td> 0.000</td> <td>    0.764</td> <td>    1.168</td>\n",
       "</tr>\n",
       "</table>\n",
       "<table class=\"simpletable\">\n",
       "<tr>\n",
       "  <th>Omnibus:</th>       <td> 0.068</td> <th>  Durbin-Watson:     </th> <td>   2.315</td>\n",
       "</tr>\n",
       "<tr>\n",
       "  <th>Prob(Omnibus):</th> <td> 0.966</td> <th>  Jarque-Bera (JB):  </th> <td>   0.195</td>\n",
       "</tr>\n",
       "<tr>\n",
       "  <th>Skew:</th>          <td> 0.141</td> <th>  Prob(JB):          </th> <td>   0.907</td>\n",
       "</tr>\n",
       "<tr>\n",
       "  <th>Kurtosis:</th>      <td> 2.290</td> <th>  Cond. No.          </th> <td>    4.10</td>\n",
       "</tr>\n",
       "</table><br/><br/>Notes:<br/>[1] Standard Errors assume that the covariance matrix of the errors is correctly specified."
      ],
      "text/plain": [
       "<class 'statsmodels.iolib.summary.Summary'>\n",
       "\"\"\"\n",
       "                            OLS Regression Results                            \n",
       "==============================================================================\n",
       "Dep. Variable:                      y   R-squared:                       0.958\n",
       "Model:                            OLS   Adj. R-squared:                  0.951\n",
       "Method:                 Least Squares   F-statistic:                     137.1\n",
       "Date:                Fri, 15 Jan 2021   Prob (F-statistic):           2.34e-05\n",
       "Time:                        20:20:44   Log-Likelihood:                 11.307\n",
       "No. Observations:                   8   AIC:                            -18.61\n",
       "Df Residuals:                       6   BIC:                            -18.46\n",
       "Df Model:                           1                                         \n",
       "Covariance Type:            nonrobust                                         \n",
       "==============================================================================\n",
       "                 coef    std err          t      P>|t|      [0.025      0.975]\n",
       "------------------------------------------------------------------------------\n",
       "const          0.0837      0.043      1.968      0.097      -0.020       0.188\n",
       "x1             0.9661      0.083     11.710      0.000       0.764       1.168\n",
       "==============================================================================\n",
       "Omnibus:                        0.068   Durbin-Watson:                   2.315\n",
       "Prob(Omnibus):                  0.966   Jarque-Bera (JB):                0.195\n",
       "Skew:                           0.141   Prob(JB):                        0.907\n",
       "Kurtosis:                       2.290   Cond. No.                         4.10\n",
       "==============================================================================\n",
       "\n",
       "Notes:\n",
       "[1] Standard Errors assume that the covariance matrix of the errors is correctly specified.\n",
       "\"\"\""
      ]
     },
     "execution_count": 288,
     "metadata": {},
     "output_type": "execute_result"
    }
   ],
   "source": [
    "y = test_targets\n",
    "x1 = test_outputs\n",
    "x = sm.add_constant(x1)\n",
    "results = sm.OLS(y,x).fit()\n",
    "results.summary()"
   ]
  },
  {
   "cell_type": "markdown",
   "metadata": {},
   "source": [
    "### Saving the model"
   ]
  },
  {
   "cell_type": "code",
   "execution_count": 228,
   "metadata": {},
   "outputs": [],
   "source": [
    "model.save('sp_char_model.h5') "
   ]
  },
  {
   "cell_type": "markdown",
   "metadata": {},
   "source": [
    "### retrieving the model"
   ]
  },
  {
   "cell_type": "code",
   "execution_count": 3,
   "metadata": {},
   "outputs": [],
   "source": [
    "model = tf.keras.models.load_model('sp_char_model.h5')"
   ]
  },
  {
   "cell_type": "code",
   "execution_count": 4,
   "metadata": {},
   "outputs": [],
   "source": [
    "import joblib\n",
    "trans1=joblib.load('f1')\n",
    "trans2=joblib.load('f2')"
   ]
  },
  {
   "cell_type": "markdown",
   "metadata": {},
   "source": [
    "### Model deployment"
   ]
  },
  {
   "cell_type": "code",
   "execution_count": 6,
   "metadata": {},
   "outputs": [
    {
     "name": "stdout",
     "output_type": "stream",
     "text": [
      "enter your carbon percentage%:>>>44\n",
      "enter your hydrogen percentage%:>>>8\n",
      "enter your oxygen percentage%:>>>44\n",
      "enter your ash percentage%:>>>33\n",
      "enter your temperature in c%:>>>500\n",
      "enter your particle size:>>>0.7\n",
      "enter your heating rate in c/min:>>>30\n",
      "your char yield wt% equals[[60.7866707]]\n"
     ]
    }
   ],
   "source": [
    "C=float(input('enter your carbon percentage%:>>>'))\n",
    "H=float(input('enter your hydrogen percentage%:>>>'))\n",
    "O=float(input('enter your oxygen percentage%:>>>'))\n",
    "A=float(input('enter your ash percentage%:>>>'))\n",
    "T=float(input('enter your temperature in c%:>>>'))\n",
    "PS=float(input('enter your particle size:>>>'))\n",
    "HR=float(input('enter your heating rate in c/min:>>>'))\n",
    "\n",
    "\n",
    "\n",
    "a=np.array([[C,H,O,A,T,PS,HR],\n",
    "           ])\n",
    "\n",
    "x= trans1.transform(a)\n",
    "\n",
    "\n",
    "y=model(x)\n",
    "real_y= trans2.inverse_transform(y)\n",
    "\n",
    "\n",
    "\n",
    "\n",
    "print(f'your char yield wt% equals{real_y}')"
   ]
  },
  {
   "cell_type": "markdown",
   "metadata": {},
   "source": [
    "### Model optimization"
   ]
  },
  {
   "cell_type": "code",
   "execution_count": 301,
   "metadata": {},
   "outputs": [],
   "source": [
    "from scipy.optimize import minimize\n",
    "from scipy.optimize import differential_evolution\n",
    "from scipy.optimize import dual_annealing\n",
    "from scipy.optimize import NonlinearConstraint\n",
    "import warnings\n",
    "warnings.filterwarnings(\"ignore\")\n",
    "np.set_printoptions(suppress=True)"
   ]
  },
  {
   "cell_type": "markdown",
   "metadata": {},
   "source": [
    "### Dual annealing optimizer"
   ]
  },
  {
   "cell_type": "code",
   "execution_count": 302,
   "metadata": {},
   "outputs": [
    {
     "name": "stdout",
     "output_type": "stream",
     "text": [
      "     fun: -1.8084663152694702\n",
      " message: ['Maximum number of iteration reached']\n",
      "    nfev: 15113\n",
      "    nhev: 0\n",
      "     nit: 1000\n",
      "    njev: 139\n",
      "  status: 0\n",
      " success: True\n",
      "       x: array([0.33260867, 1.        , 1.        , 1.        , 0.        ,\n",
      "       0.99998181, 0.48575318])\n"
     ]
    }
   ],
   "source": [
    "def objective(x, sign=-1.0):  \n",
    "    \n",
    "    z=np.array([x,])\n",
    "    y=model.predict_on_batch(z)\n",
    "    return float(np.squeeze(sign*y))\n",
    "\n",
    "\n",
    "# def constraint1(x):\n",
    "    \n",
    "#     z=np.array([x,])\n",
    "#     b= list(np.squeeze(trans1.inverse_transform(z)))\n",
    "#     C=b[0]\n",
    "#     H=b[1]\n",
    "#     O=b[2]\n",
    "#     N=b[3]\n",
    "#     S=b[4]\n",
    "#     return (C+H+O+N+S)\n",
    "# cons= NonlinearConstraint(constraint1, 12., 100.)\n",
    "\n",
    "\n",
    "\n",
    "b1 = (0.,1.)\n",
    "b2 = (0.,1.)\n",
    "b3 = (0.,1.)\n",
    "b4 = (0.,1.)\n",
    "b5 = (0.,1.)\n",
    "b6=  (0.,1.)\n",
    "b7=  (0.,1.)\n",
    "\n",
    "\n",
    "bnds= (b1,b2,b3,b4,b5,b6,b7)\n",
    "# x0=[0.9999,0.1221,0.000047,0.66769,0.7336]\n",
    "\n",
    "\n",
    "sol = dual_annealing(objective,bounds=bnds,maxiter=1000)\n",
    "\n",
    "print(sol)"
   ]
  },
  {
   "cell_type": "code",
   "execution_count": 303,
   "metadata": {},
   "outputs": [
    {
     "name": "stdout",
     "output_type": "stream",
     "text": [
      "[[ 43.28171709   8.27        54.12        14.83       350.\n",
      "    3.19994635  26.85889305]]\n"
     ]
    },
    {
     "data": {
      "text/plain": [
       "'the maximum char yield wt% equals [[59.02618268]]'"
      ]
     },
     "execution_count": 303,
     "metadata": {},
     "output_type": "execute_result"
    }
   ],
   "source": [
    "print(trans1.inverse_transform((sol.x).reshape(1,-1)))\n",
    "f'the maximum char yield wt% equals {trans2.inverse_transform(np.array([-sol.fun]).reshape(-1,1))}'"
   ]
  },
  {
   "cell_type": "markdown",
   "metadata": {},
   "source": [
    "### Significance test"
   ]
  },
  {
   "cell_type": "code",
   "execution_count": 7,
   "metadata": {},
   "outputs": [
    {
     "name": "stdout",
     "output_type": "stream",
     "text": [
      "{'C': 0.04997, 'H': 0.04239, 'O': 0.03432, 'A': 0.49525, 'T': 0.59044, 'PS': 0.06283, 'HR': 0.0984}\n"
     ]
    }
   ],
   "source": [
    "list1= ['C','H','O','A','T','PS','HR']\n",
    "w=[]\n",
    "b={}\n",
    "inp=train_inputs\n",
    "inp = tf.Variable(inp, dtype=tf.float32)\n",
    "\n",
    "with tf.GradientTape() as tape:\n",
    "    preds = model(inp)\n",
    "grads = np.squeeze(tape.gradient(preds, inp))\n",
    "\n",
    "for i in range(train_inputs.shape[1]):\n",
    "    a=sum((grads[:,i])**2)/(train_inputs.shape[0])\n",
    "    w.append(a.round(5))\n",
    "for i in range(train_inputs.shape[1]):\n",
    "    b[list1[i]]=w[i]\n",
    "print(b)"
   ]
  },
  {
   "cell_type": "code",
   "execution_count": 8,
   "metadata": {},
   "outputs": [
    {
     "name": "stdout",
     "output_type": "stream",
     "text": [
      "[0.036, 0.031, 0.025, 0.361, 0.43, 0.046, 0.072]\n"
     ]
    }
   ],
   "source": [
    "t=[]\n",
    "for i in w:\n",
    "    t.append((i/sum(w)).round(3))\n",
    "print(t)"
   ]
  },
  {
   "cell_type": "code",
   "execution_count": 9,
   "metadata": {},
   "outputs": [
    {
     "data": {
      "text/plain": [
       "[Text(0.5, 0, 'variables'), Text(0, 0.5, 'sensitivity')]"
      ]
     },
     "execution_count": 9,
     "metadata": {},
     "output_type": "execute_result"
    },
    {
     "data": {
      "image/png": "[encoded data removed]",
      "text/plain": [
       "<Figure size 432x288 with 1 Axes>"
      ]
     },
     "metadata": {},
     "output_type": "display_data"
    }
   ],
   "source": [
    "sns.barplot(x=list1,y=t).set(xlabel='variables',ylabel='sensitivity')"
   ]
  },
  {
   "cell_type": "code",
   "execution_count": null,
   "metadata": {},
   "outputs": [],
   "source": []
  }
 ],
 "metadata": {
  "kernelspec": {
   "display_name": "Python 3",
   "language": "python",
   "name": "python3"
  },
  "language_info": {
   "codemirror_mode": {
    "name": "ipython",
    "version": 3
   },
   "file_extension": ".py",
   "mimetype": "text/x-python",
   "name": "python",
   "nbconvert_exporter": "python",
   "pygments_lexer": "ipython3",
   "version": "3.9.2"
  }
 },
 "nbformat": 4,
 "nbformat_minor": 2
}
