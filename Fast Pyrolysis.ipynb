{
 "cells": [
  {
   "cell_type": "markdown",
   "metadata": {},
   "source": [
    "# FP oil yield model run"
   ]
  },
  {
   "cell_type": "markdown",
   "metadata": {},
   "source": [
    "### Import the relevant libraries"
   ]
  },
  {
   "cell_type": "code",
   "execution_count": 1,
   "metadata": {},
   "outputs": [
    {
     "name": "stdout",
     "output_type": "stream",
     "text": [
      "INFO:tensorflow:Enabling eager execution\n",
      "INFO:tensorflow:Enabling v2 tensorshape\n",
      "INFO:tensorflow:Enabling resource variables\n",
      "INFO:tensorflow:Enabling tensor equality\n",
      "INFO:tensorflow:Enabling control flow v2\n"
     ]
    }
   ],
   "source": [
    "# we must import the libraries once again since we haven't imported them in this file\n",
    "import numpy as np\n",
    "import tensorflow as tf\n",
    "import statsmodels.api as sm\n",
    "import seaborn as sns\n",
    "sns.set()"
   ]
  },
  {
   "cell_type": "markdown",
   "metadata": {},
   "source": [
    "### Data"
   ]
  },
  {
   "cell_type": "code",
   "execution_count": 2,
   "metadata": {},
   "outputs": [],
   "source": [
    "npz = np.load('fp1.npz')\n",
    "\n",
    "train_inputs = npz['inputs'].astype(np.float)\n",
    "train_targets = npz['targets'].astype(np.float)\n",
    "\n",
    "npz = np.load('fp2.npz')\n",
    "validation_inputs, validation_targets = npz['inputs'].astype(np.float), npz['targets'].astype(np.float)\n",
    "\n",
    "npz = np.load('fp3.npz')\n",
    "test_inputs, test_targets = npz['inputs'].astype(np.float), npz['targets'].astype(np.float)"
   ]
  },
  {
   "cell_type": "markdown",
   "metadata": {},
   "source": [
    "### Model\n",
    "Outline, optimizers, loss, early stopping and training"
   ]
  },
  {
   "cell_type": "code",
   "execution_count": 86,
   "metadata": {},
   "outputs": [
    {
     "name": "stdout",
     "output_type": "stream",
     "text": [
      "Train on 31 samples, validate on 6 samples\n",
      "Epoch 1/500\n",
      "31/31 - 1s - loss: 0.3226 - val_loss: 0.4852\n",
      "Epoch 2/500\n",
      "31/31 - 0s - loss: 0.2969 - val_loss: 0.1986\n",
      "Epoch 3/500\n",
      "31/31 - 0s - loss: 0.1980 - val_loss: 0.2068\n",
      "Epoch 4/500\n",
      "31/31 - 0s - loss: 0.2331 - val_loss: 0.1752\n",
      "Epoch 5/500\n",
      "31/31 - 0s - loss: 0.1911 - val_loss: 0.1544\n",
      "Epoch 6/500\n",
      "31/31 - 0s - loss: 0.1659 - val_loss: 0.1614\n",
      "Epoch 7/500\n",
      "31/31 - 0s - loss: 0.1630 - val_loss: 0.1735\n",
      "Epoch 8/500\n",
      "31/31 - 0s - loss: 0.1557 - val_loss: 0.1863\n",
      "Epoch 9/500\n",
      "31/31 - 0s - loss: 0.1580 - val_loss: 0.2237\n",
      "Epoch 10/500\n",
      "31/31 - 0s - loss: 0.1535 - val_loss: 0.1836\n",
      "Epoch 11/500\n",
      "31/31 - 0s - loss: 0.1640 - val_loss: 0.1966\n",
      "Epoch 12/500\n",
      "31/31 - 0s - loss: 0.1831 - val_loss: 0.1806\n",
      "Epoch 13/500\n",
      "31/31 - 0s - loss: 0.1529 - val_loss: 0.2109\n",
      "Epoch 14/500\n",
      "31/31 - 0s - loss: 0.1639 - val_loss: 0.1775\n",
      "Epoch 15/500\n",
      "31/31 - 0s - loss: 0.1519 - val_loss: 0.2138\n",
      "Epoch 16/500\n",
      "31/31 - 0s - loss: 0.1913 - val_loss: 0.2012\n",
      "Epoch 17/500\n",
      "31/31 - 0s - loss: 0.1712 - val_loss: 0.1785\n",
      "Epoch 18/500\n",
      "31/31 - 0s - loss: 0.1447 - val_loss: 0.1509\n",
      "Epoch 19/500\n",
      "31/31 - 0s - loss: 0.1494 - val_loss: 0.1550\n",
      "Epoch 20/500\n",
      "31/31 - 0s - loss: 0.1462 - val_loss: 0.1371\n",
      "Epoch 21/500\n",
      "31/31 - 0s - loss: 0.1390 - val_loss: 0.1405\n",
      "Epoch 22/500\n",
      "31/31 - 0s - loss: 0.1351 - val_loss: 0.1873\n",
      "Epoch 23/500\n",
      "31/31 - 0s - loss: 0.1465 - val_loss: 0.2062\n",
      "Epoch 24/500\n",
      "31/31 - 0s - loss: 0.1466 - val_loss: 0.1876\n",
      "Epoch 25/500\n",
      "31/31 - 0s - loss: 0.1405 - val_loss: 0.1859\n",
      "Epoch 26/500\n",
      "31/31 - 0s - loss: 0.1509 - val_loss: 0.2237\n",
      "Epoch 27/500\n",
      "31/31 - 0s - loss: 0.1667 - val_loss: 0.2354\n",
      "Epoch 28/500\n",
      "31/31 - 0s - loss: 0.1479 - val_loss: 0.1847\n",
      "Epoch 29/500\n",
      "31/31 - 0s - loss: 0.1422 - val_loss: 0.1479\n",
      "Epoch 30/500\n",
      "31/31 - 0s - loss: 0.1404 - val_loss: 0.1363\n",
      "Epoch 31/500\n",
      "31/31 - 0s - loss: 0.1402 - val_loss: 0.1445\n",
      "Epoch 32/500\n",
      "31/31 - 0s - loss: 0.1317 - val_loss: 0.1765\n",
      "Epoch 33/500\n",
      "31/31 - 0s - loss: 0.1247 - val_loss: 0.1510\n",
      "Epoch 34/500\n",
      "31/31 - 0s - loss: 0.1283 - val_loss: 0.1710\n",
      "Epoch 35/500\n",
      "31/31 - 0s - loss: 0.1257 - val_loss: 0.1792\n",
      "Epoch 36/500\n",
      "31/31 - 0s - loss: 0.1287 - val_loss: 0.2116\n",
      "Epoch 37/500\n",
      "31/31 - 0s - loss: 0.1263 - val_loss: 0.1760\n",
      "Epoch 38/500\n",
      "31/31 - 0s - loss: 0.1261 - val_loss: 0.1510\n",
      "Epoch 39/500\n",
      "31/31 - 0s - loss: 0.1209 - val_loss: 0.1511\n",
      "Epoch 40/500\n",
      "31/31 - 0s - loss: 0.1285 - val_loss: 0.1691\n",
      "Epoch 41/500\n",
      "31/31 - 0s - loss: 0.1156 - val_loss: 0.1730\n",
      "Epoch 42/500\n",
      "31/31 - 0s - loss: 0.1167 - val_loss: 0.1903\n",
      "Epoch 43/500\n",
      "31/31 - 0s - loss: 0.1126 - val_loss: 0.1863\n",
      "Epoch 44/500\n",
      "31/31 - 0s - loss: 0.1544 - val_loss: 0.2277\n",
      "Epoch 45/500\n",
      "31/31 - 0s - loss: 0.1723 - val_loss: 0.1948\n",
      "Epoch 46/500\n",
      "31/31 - 0s - loss: 0.1232 - val_loss: 0.2368\n",
      "Epoch 47/500\n",
      "31/31 - 0s - loss: 0.1467 - val_loss: 0.1810\n",
      "Epoch 48/500\n",
      "31/31 - 0s - loss: 0.1253 - val_loss: 0.1971\n",
      "Epoch 49/500\n",
      "31/31 - 0s - loss: 0.1600 - val_loss: 0.1989\n",
      "Epoch 50/500\n",
      "31/31 - 0s - loss: 0.1284 - val_loss: 0.1964\n",
      "Epoch 51/500\n",
      "31/31 - 0s - loss: 0.1660 - val_loss: 0.2506\n",
      "Epoch 52/500\n",
      "31/31 - 0s - loss: 0.1429 - val_loss: 0.1458\n",
      "Epoch 53/500\n",
      "31/31 - 0s - loss: 0.1123 - val_loss: 0.1331\n",
      "Epoch 54/500\n",
      "31/31 - 0s - loss: 0.1114 - val_loss: 0.1556\n",
      "Epoch 55/500\n",
      "31/31 - 0s - loss: 0.1206 - val_loss: 0.2376\n",
      "Epoch 56/500\n",
      "31/31 - 0s - loss: 0.1295 - val_loss: 0.2548\n",
      "Epoch 57/500\n",
      "31/31 - 0s - loss: 0.1247 - val_loss: 0.2451\n",
      "Epoch 58/500\n",
      "31/31 - 0s - loss: 0.1326 - val_loss: 0.1720\n",
      "Epoch 59/500\n",
      "31/31 - 0s - loss: 0.1578 - val_loss: 0.1772\n",
      "Epoch 60/500\n",
      "31/31 - 0s - loss: 0.1569 - val_loss: 0.1380\n",
      "Epoch 61/500\n",
      "31/31 - 0s - loss: 0.1369 - val_loss: 0.1330\n",
      "Epoch 62/500\n",
      "31/31 - 0s - loss: 0.1352 - val_loss: 0.1229\n",
      "Epoch 63/500\n",
      "31/31 - 0s - loss: 0.1191 - val_loss: 0.1667\n",
      "Epoch 64/500\n",
      "31/31 - 0s - loss: 0.1178 - val_loss: 0.1845\n",
      "Epoch 65/500\n",
      "31/31 - 0s - loss: 0.1140 - val_loss: 0.2078\n",
      "Epoch 66/500\n",
      "31/31 - 0s - loss: 0.1109 - val_loss: 0.2260\n",
      "Epoch 67/500\n",
      "31/31 - 0s - loss: 0.1263 - val_loss: 0.2238\n",
      "Epoch 68/500\n",
      "31/31 - 0s - loss: 0.0847 - val_loss: 0.2524\n",
      "Epoch 69/500\n",
      "31/31 - 0s - loss: 0.1423 - val_loss: 0.2751\n",
      "Epoch 70/500\n",
      "31/31 - 0s - loss: 0.1380 - val_loss: 0.2197\n",
      "Epoch 71/500\n",
      "31/31 - 0s - loss: 0.1028 - val_loss: 0.1559\n",
      "Epoch 72/500\n",
      "31/31 - 0s - loss: 0.1152 - val_loss: 0.1818\n",
      "Epoch 73/500\n",
      "31/31 - 0s - loss: 0.1101 - val_loss: 0.1945\n",
      "Epoch 74/500\n",
      "31/31 - 0s - loss: 0.0942 - val_loss: 0.2118\n",
      "Epoch 75/500\n",
      "31/31 - 0s - loss: 0.1292 - val_loss: 0.2436\n",
      "Epoch 76/500\n",
      "31/31 - 0s - loss: 0.1323 - val_loss: 0.2709\n",
      "Epoch 77/500\n",
      "31/31 - 0s - loss: 0.1148 - val_loss: 0.2949\n",
      "Epoch 78/500\n",
      "31/31 - 0s - loss: 0.1378 - val_loss: 0.2871\n",
      "Epoch 79/500\n",
      "31/31 - 0s - loss: 0.1043 - val_loss: 0.2813\n",
      "Epoch 80/500\n",
      "31/31 - 0s - loss: 0.1521 - val_loss: 0.2762\n",
      "Epoch 81/500\n",
      "31/31 - 0s - loss: 0.1163 - val_loss: 0.1993\n",
      "Epoch 82/500\n",
      "31/31 - 0s - loss: 0.1317 - val_loss: 0.2319\n",
      "Epoch 83/500\n",
      "31/31 - 0s - loss: 0.1634 - val_loss: 0.2136\n",
      "Epoch 84/500\n",
      "31/31 - 0s - loss: 0.1119 - val_loss: 0.2102\n",
      "Epoch 85/500\n",
      "31/31 - 0s - loss: 0.1099 - val_loss: 0.1885\n",
      "Epoch 86/500\n",
      "31/31 - 0s - loss: 0.1012 - val_loss: 0.1946\n",
      "Epoch 87/500\n",
      "31/31 - 0s - loss: 0.1028 - val_loss: 0.1918\n",
      "Epoch 88/500\n",
      "31/31 - 0s - loss: 0.0908 - val_loss: 0.2059\n",
      "Epoch 89/500\n",
      "31/31 - 0s - loss: 0.0991 - val_loss: 0.2095\n",
      "Epoch 90/500\n",
      "31/31 - 0s - loss: 0.0882 - val_loss: 0.2049\n",
      "Epoch 91/500\n",
      "31/31 - 0s - loss: 0.0890 - val_loss: 0.2148\n",
      "Epoch 92/500\n",
      "31/31 - 0s - loss: 0.0842 - val_loss: 0.2193\n",
      "Epoch 93/500\n",
      "31/31 - 0s - loss: 0.1039 - val_loss: 0.2081\n",
      "Epoch 94/500\n",
      "31/31 - 0s - loss: 0.1005 - val_loss: 0.1752\n",
      "Epoch 95/500\n",
      "31/31 - 0s - loss: 0.0994 - val_loss: 0.1814\n",
      "Epoch 96/500\n",
      "31/31 - 0s - loss: 0.0885 - val_loss: 0.1801\n",
      "Epoch 97/500\n",
      "31/31 - 0s - loss: 0.0961 - val_loss: 0.1720\n",
      "Epoch 98/500\n",
      "31/31 - 0s - loss: 0.0914 - val_loss: 0.1859\n",
      "Epoch 99/500\n",
      "31/31 - 0s - loss: 0.0793 - val_loss: 0.2043\n",
      "Epoch 100/500\n",
      "31/31 - 0s - loss: 0.0847 - val_loss: 0.2052\n",
      "Epoch 101/500\n",
      "31/31 - 0s - loss: 0.0832 - val_loss: 0.2043\n",
      "Epoch 102/500\n",
      "31/31 - 0s - loss: 0.0930 - val_loss: 0.2043\n",
      "Epoch 103/500\n",
      "31/31 - 0s - loss: 0.1084 - val_loss: 0.1974\n",
      "Epoch 104/500\n",
      "31/31 - 0s - loss: 0.0990 - val_loss: 0.1662\n",
      "Epoch 105/500\n",
      "31/31 - 0s - loss: 0.0996 - val_loss: 0.1400\n",
      "Epoch 106/500\n",
      "31/31 - 0s - loss: 0.0923 - val_loss: 0.1309\n",
      "Epoch 107/500\n",
      "31/31 - 0s - loss: 0.0857 - val_loss: 0.1288\n",
      "Epoch 108/500\n",
      "31/31 - 0s - loss: 0.0776 - val_loss: 0.1359\n",
      "Epoch 109/500\n",
      "31/31 - 0s - loss: 0.0801 - val_loss: 0.1558\n",
      "Epoch 110/500\n",
      "31/31 - 0s - loss: 0.0773 - val_loss: 0.1498\n",
      "Epoch 111/500\n",
      "31/31 - 0s - loss: 0.0982 - val_loss: 0.1471\n",
      "Epoch 112/500\n",
      "31/31 - 0s - loss: 0.0918 - val_loss: 0.1531\n",
      "Epoch 113/500\n",
      "31/31 - 0s - loss: 0.0850 - val_loss: 0.1590\n",
      "Epoch 114/500\n",
      "31/31 - 0s - loss: 0.0828 - val_loss: 0.1634\n",
      "Epoch 115/500\n",
      "31/31 - 0s - loss: 0.0770 - val_loss: 0.1722\n",
      "Epoch 116/500\n",
      "31/31 - 0s - loss: 0.0734 - val_loss: 0.1653\n",
      "Epoch 117/500\n",
      "31/31 - 0s - loss: 0.0759 - val_loss: 0.1681\n",
      "Epoch 118/500\n",
      "31/31 - 0s - loss: 0.0807 - val_loss: 0.1749\n",
      "Epoch 119/500\n",
      "31/31 - 0s - loss: 0.0875 - val_loss: 0.1922\n",
      "Epoch 120/500\n",
      "31/31 - 0s - loss: 0.0854 - val_loss: 0.1938\n",
      "Epoch 121/500\n",
      "31/31 - 0s - loss: 0.0981 - val_loss: 0.1753\n",
      "Epoch 122/500\n",
      "31/31 - 0s - loss: 0.0810 - val_loss: 0.1598\n",
      "Epoch 123/500\n",
      "31/31 - 0s - loss: 0.0792 - val_loss: 0.1645\n",
      "Epoch 124/500\n",
      "31/31 - 0s - loss: 0.0736 - val_loss: 0.1946\n",
      "Epoch 125/500\n",
      "31/31 - 0s - loss: 0.0713 - val_loss: 0.2131\n",
      "Epoch 126/500\n",
      "31/31 - 0s - loss: 0.0909 - val_loss: 0.2114\n",
      "Epoch 127/500\n",
      "31/31 - 0s - loss: 0.0934 - val_loss: 0.1889\n",
      "Epoch 128/500\n",
      "31/31 - 0s - loss: 0.0898 - val_loss: 0.1645\n",
      "Epoch 129/500\n",
      "31/31 - 0s - loss: 0.0810 - val_loss: 0.1462\n",
      "Epoch 130/500\n",
      "31/31 - 0s - loss: 0.0690 - val_loss: 0.1382\n",
      "Epoch 131/500\n",
      "31/31 - 0s - loss: 0.0888 - val_loss: 0.1564\n",
      "Epoch 132/500\n",
      "31/31 - 0s - loss: 0.0737 - val_loss: 0.1897\n",
      "Epoch 133/500\n",
      "31/31 - 0s - loss: 0.0858 - val_loss: 0.1898\n",
      "Epoch 134/500\n",
      "31/31 - 0s - loss: 0.0781 - val_loss: 0.1984\n",
      "Epoch 135/500\n",
      "31/31 - 0s - loss: 0.0810 - val_loss: 0.2006\n",
      "Epoch 136/500\n",
      "31/31 - 0s - loss: 0.0943 - val_loss: 0.1518\n",
      "Epoch 137/500\n",
      "31/31 - 0s - loss: 0.1066 - val_loss: 0.1587\n",
      "Epoch 138/500\n",
      "31/31 - 0s - loss: 0.1189 - val_loss: 0.1700\n",
      "Epoch 139/500\n",
      "31/31 - 0s - loss: 0.0990 - val_loss: 0.1570\n",
      "Epoch 140/500\n",
      "31/31 - 0s - loss: 0.1454 - val_loss: 0.1575\n"
     ]
    },
    {
     "name": "stdout",
     "output_type": "stream",
     "text": [
      "Epoch 141/500\n",
      "31/31 - 0s - loss: 0.0994 - val_loss: 0.1771\n",
      "Epoch 142/500\n",
      "31/31 - 0s - loss: 0.0898 - val_loss: 0.1852\n",
      "Epoch 143/500\n",
      "31/31 - 0s - loss: 0.0888 - val_loss: 0.1944\n",
      "Epoch 144/500\n",
      "31/31 - 0s - loss: 0.0776 - val_loss: 0.1685\n",
      "Epoch 145/500\n",
      "31/31 - 0s - loss: 0.1017 - val_loss: 0.1921\n",
      "Epoch 146/500\n",
      "31/31 - 0s - loss: 0.0900 - val_loss: 0.2398\n",
      "Epoch 147/500\n",
      "31/31 - 0s - loss: 0.1318 - val_loss: 0.2626\n",
      "Epoch 148/500\n",
      "31/31 - 0s - loss: 0.1266 - val_loss: 0.2245\n",
      "Epoch 149/500\n",
      "31/31 - 0s - loss: 0.1011 - val_loss: 0.2254\n",
      "Epoch 150/500\n",
      "31/31 - 0s - loss: 0.1250 - val_loss: 0.2227\n",
      "Epoch 151/500\n",
      "31/31 - 0s - loss: 0.1076 - val_loss: 0.2119\n",
      "Epoch 152/500\n",
      "31/31 - 0s - loss: 0.1225 - val_loss: 0.2078\n",
      "Epoch 153/500\n",
      "31/31 - 0s - loss: 0.1058 - val_loss: 0.2055\n",
      "Epoch 154/500\n",
      "31/31 - 0s - loss: 0.0868 - val_loss: 0.2025\n",
      "Epoch 155/500\n",
      "31/31 - 0s - loss: 0.0746 - val_loss: 0.2151\n",
      "Epoch 156/500\n",
      "31/31 - 0s - loss: 0.0780 - val_loss: 0.2054\n",
      "Epoch 157/500\n",
      "31/31 - 0s - loss: 0.0956 - val_loss: 0.2052\n",
      "Epoch 158/500\n",
      "31/31 - 0s - loss: 0.0806 - val_loss: 0.1982\n",
      "Epoch 159/500\n",
      "31/31 - 0s - loss: 0.1047 - val_loss: 0.1968\n",
      "Epoch 160/500\n",
      "31/31 - 0s - loss: 0.1032 - val_loss: 0.2369\n",
      "Epoch 161/500\n",
      "31/31 - 0s - loss: 0.1570 - val_loss: 0.2271\n",
      "Epoch 162/500\n",
      "31/31 - 0s - loss: 0.1283 - val_loss: 0.1933\n"
     ]
    },
    {
     "data": {
      "text/plain": [
       "<tensorflow.python.keras.callbacks.History at 0x17fd5d68>"
      ]
     },
     "execution_count": 86,
     "metadata": {},
     "output_type": "execute_result"
    }
   ],
   "source": [
    "# Set the input and output sizes\n",
    "input_size = 3\n",
    "output_size = 1\n",
    "# Use same hidden layer size for both hidden layers. Not a necessity.\n",
    "hidden_layer_size = 50\n",
    "    \n",
    "# define how the model will look like\n",
    "model = tf.keras.Sequential([\n",
    "    \n",
    "    tf.keras.layers.Dense(hidden_layer_size,'relu'),\n",
    "    tf.keras.layers.Dense(hidden_layer_size,'relu'),\n",
    "\n",
    "    tf.keras.layers.Dense(output_size,'linear') # output layer\n",
    "])\n",
    "\n",
    "\n",
    "\n",
    "optimizer = tf.keras.optimizers.Adam(learning_rate=0.01)\n",
    "\n",
    "model.compile(optimizer, loss='MAE')\n",
    "\n",
    "\n",
    "batch_size = 10\n",
    "\n",
    "max_epochs = 500\n",
    "\n",
    "\n",
    "early_stopping = tf.keras.callbacks.EarlyStopping(patience=100)\n",
    "\n",
    "\n",
    "model.fit(train_inputs, # train inputs\n",
    "          train_targets, # train targets\n",
    "          batch_size=batch_size, \n",
    "          epochs=max_epochs,\n",
    "          callbacks=[early_stopping],# batch size\n",
    "          \n",
    "          validation_data=(validation_inputs, validation_targets),\n",
    "           callbacks=[early_stopping],\n",
    "          verbose = 2 # making sure we get enough information about the training process\n",
    "          )  "
   ]
  },
  {
   "cell_type": "code",
   "execution_count": 110,
   "metadata": {},
   "outputs": [
    {
     "name": "stdout",
     "output_type": "stream",
     "text": [
      "8/8 - 0s - loss: 0.0419\n"
     ]
    },
    {
     "data": {
      "text/plain": [
       "0.04188791662454605"
      ]
     },
     "execution_count": 110,
     "metadata": {},
     "output_type": "execute_result"
    }
   ],
   "source": [
    "model.evaluate(test_inputs,test_targets, verbose=2)"
   ]
  },
  {
   "cell_type": "markdown",
   "metadata": {},
   "source": [
    "# train data evaluation"
   ]
  },
  {
   "cell_type": "code",
   "execution_count": 111,
   "metadata": {},
   "outputs": [
    {
     "data": {
      "text/plain": [
       "array([ 0.62, -0.04,  0.57,  0.62,  0.39,  0.78,  0.93,  0.5 ,  0.45,\n",
       "        0.84,  0.49,  0.53,  0.82,  0.27,  0.51,  0.3 , -0.  ,  0.37,\n",
       "        0.62,  0.63,  0.49,  0.8 ,  0.81, -0.04,  0.48,  0.78,  0.79,\n",
       "        0.51,  0.81,  0.56,  0.75,  0.49,  0.96,  0.41,  0.71],\n",
       "      dtype=float32)"
      ]
     },
     "execution_count": 111,
     "metadata": {},
     "output_type": "execute_result"
    }
   ],
   "source": [
    "train_outputs=np.squeeze(model.predict(train_inputs)).round(2)\n",
    "train_outputs"
   ]
  },
  {
   "cell_type": "code",
   "execution_count": 112,
   "metadata": {},
   "outputs": [
    {
     "data": {
      "text/plain": [
       "array([[0.6 ],\n",
       "       [0.  ],\n",
       "       [0.57],\n",
       "       [0.5 ],\n",
       "       [0.4 ],\n",
       "       [0.8 ],\n",
       "       [1.  ],\n",
       "       [0.5 ],\n",
       "       [0.42],\n",
       "       [0.83],\n",
       "       [0.5 ],\n",
       "       [0.55],\n",
       "       [0.81],\n",
       "       [0.37],\n",
       "       [0.58],\n",
       "       [0.38],\n",
       "       [0.08],\n",
       "       [0.37],\n",
       "       [0.63],\n",
       "       [0.66],\n",
       "       [0.48],\n",
       "       [0.78],\n",
       "       [0.82],\n",
       "       [0.07],\n",
       "       [0.47],\n",
       "       [0.78],\n",
       "       [0.78],\n",
       "       [0.5 ],\n",
       "       [0.47],\n",
       "       [0.55],\n",
       "       [0.76],\n",
       "       [0.49],\n",
       "       [0.99],\n",
       "       [0.42],\n",
       "       [0.72]])"
      ]
     },
     "execution_count": 112,
     "metadata": {},
     "output_type": "execute_result"
    }
   ],
   "source": [
    "train_targets.round(2)"
   ]
  },
  {
   "cell_type": "code",
   "execution_count": 113,
   "metadata": {},
   "outputs": [
    {
     "data": {
      "image/png": "[encoded data removed]",
      "text/plain": [
       "<Figure size 432x288 with 1 Axes>"
      ]
     },
     "metadata": {},
     "output_type": "display_data"
    }
   ],
   "source": [
    "import matplotlib.pyplot as plt\n",
    "plt.scatter(train_outputs,train_targets,label='data')\n",
    "x= train_outputs\n",
    "y=train_targets\n",
    "m, b = np.polyfit(x, y, 1)\n",
    "plt.plot(x, m*x + b,'r',label='fit')\n",
    "plt.legend(loc='lower right',title='R_squared=0.919',fontsize=10)\n",
    "plt.title('Training',fontsize=20)\n",
    "plt.xlabel('train_outputs',fontsize=20)\n",
    "plt.ylabel('train_targets',fontsize=20)\n",
    "plt.xlim(0,1)\n",
    "plt.ylim(0,1)\n",
    "plt.grid(True)\n",
    "plt.show()"
   ]
  },
  {
   "cell_type": "code",
   "execution_count": 114,
   "metadata": {},
   "outputs": [
    {
     "data": {
      "text/html": [
       "<table class=\"simpletable\">\n",
       "<caption>OLS Regression Results</caption>\n",
       "<tr>\n",
       "  <th>Dep. Variable:</th>            <td>y</td>        <th>  R-squared:         </th> <td>   0.919</td>\n",
       "</tr>\n",
       "<tr>\n",
       "  <th>Model:</th>                   <td>OLS</td>       <th>  Adj. R-squared:    </th> <td>   0.916</td>\n",
       "</tr>\n",
       "<tr>\n",
       "  <th>Method:</th>             <td>Least Squares</td>  <th>  F-statistic:       </th> <td>   373.9</td>\n",
       "</tr>\n",
       "<tr>\n",
       "  <th>Date:</th>             <td>Sun, 28 Mar 2021</td> <th>  Prob (F-statistic):</th> <td>1.43e-19</td>\n",
       "</tr>\n",
       "<tr>\n",
       "  <th>Time:</th>                 <td>17:21:56</td>     <th>  Log-Likelihood:    </th> <td>  45.683</td>\n",
       "</tr>\n",
       "<tr>\n",
       "  <th>No. Observations:</th>      <td>    35</td>      <th>  AIC:               </th> <td>  -87.37</td>\n",
       "</tr>\n",
       "<tr>\n",
       "  <th>Df Residuals:</th>          <td>    33</td>      <th>  BIC:               </th> <td>  -84.25</td>\n",
       "</tr>\n",
       "<tr>\n",
       "  <th>Df Model:</th>              <td>     1</td>      <th>                     </th>     <td> </td>   \n",
       "</tr>\n",
       "<tr>\n",
       "  <th>Covariance Type:</th>      <td>nonrobust</td>    <th>                     </th>     <td> </td>   \n",
       "</tr>\n",
       "</table>\n",
       "<table class=\"simpletable\">\n",
       "<tr>\n",
       "    <td></td>       <th>coef</th>     <th>std err</th>      <th>t</th>      <th>P>|t|</th>  <th>[0.025</th>    <th>0.975]</th>  \n",
       "</tr>\n",
       "<tr>\n",
       "  <th>const</th> <td>    0.0668</td> <td>    0.028</td> <td>    2.384</td> <td> 0.023</td> <td>    0.010</td> <td>    0.124</td>\n",
       "</tr>\n",
       "<tr>\n",
       "  <th>x1</th>    <td>    0.8879</td> <td>    0.046</td> <td>   19.337</td> <td> 0.000</td> <td>    0.794</td> <td>    0.981</td>\n",
       "</tr>\n",
       "</table>\n",
       "<table class=\"simpletable\">\n",
       "<tr>\n",
       "  <th>Omnibus:</th>       <td>48.403</td> <th>  Durbin-Watson:     </th> <td>   1.728</td>\n",
       "</tr>\n",
       "<tr>\n",
       "  <th>Prob(Omnibus):</th> <td> 0.000</td> <th>  Jarque-Bera (JB):  </th> <td> 263.799</td>\n",
       "</tr>\n",
       "<tr>\n",
       "  <th>Skew:</th>          <td>-2.980</td> <th>  Prob(JB):          </th> <td>5.21e-58</td>\n",
       "</tr>\n",
       "<tr>\n",
       "  <th>Kurtosis:</th>      <td>15.057</td> <th>  Cond. No.          </th> <td>    5.33</td>\n",
       "</tr>\n",
       "</table><br/><br/>Notes:<br/>[1] Standard Errors assume that the covariance matrix of the errors is correctly specified."
      ],
      "text/plain": [
       "<class 'statsmodels.iolib.summary.Summary'>\n",
       "\"\"\"\n",
       "                            OLS Regression Results                            \n",
       "==============================================================================\n",
       "Dep. Variable:                      y   R-squared:                       0.919\n",
       "Model:                            OLS   Adj. R-squared:                  0.916\n",
       "Method:                 Least Squares   F-statistic:                     373.9\n",
       "Date:                Sun, 28 Mar 2021   Prob (F-statistic):           1.43e-19\n",
       "Time:                        17:21:56   Log-Likelihood:                 45.683\n",
       "No. Observations:                  35   AIC:                            -87.37\n",
       "Df Residuals:                      33   BIC:                            -84.25\n",
       "Df Model:                           1                                         \n",
       "Covariance Type:            nonrobust                                         \n",
       "==============================================================================\n",
       "                 coef    std err          t      P>|t|      [0.025      0.975]\n",
       "------------------------------------------------------------------------------\n",
       "const          0.0668      0.028      2.384      0.023       0.010       0.124\n",
       "x1             0.8879      0.046     19.337      0.000       0.794       0.981\n",
       "==============================================================================\n",
       "Omnibus:                       48.403   Durbin-Watson:                   1.728\n",
       "Prob(Omnibus):                  0.000   Jarque-Bera (JB):              263.799\n",
       "Skew:                          -2.980   Prob(JB):                     5.21e-58\n",
       "Kurtosis:                      15.057   Cond. No.                         5.33\n",
       "==============================================================================\n",
       "\n",
       "Notes:\n",
       "[1] Standard Errors assume that the covariance matrix of the errors is correctly specified.\n",
       "\"\"\""
      ]
     },
     "execution_count": 114,
     "metadata": {},
     "output_type": "execute_result"
    }
   ],
   "source": [
    "b = train_targets\n",
    "a1 = train_outputs\n",
    "a = sm.add_constant(a1)\n",
    "results = sm.OLS(b,a).fit()\n",
    "results.summary()"
   ]
  },
  {
   "cell_type": "markdown",
   "metadata": {},
   "source": [
    "## Test data evaluation"
   ]
  },
  {
   "cell_type": "code",
   "execution_count": 115,
   "metadata": {},
   "outputs": [
    {
     "data": {
      "text/plain": [
       "array([ 0.37,  0.53,  0.69,  0.42, -0.  ,  0.61,  0.68,  0.45],\n",
       "      dtype=float32)"
      ]
     },
     "execution_count": 115,
     "metadata": {},
     "output_type": "execute_result"
    }
   ],
   "source": [
    "test_outputs=np.squeeze(model.predict(test_inputs)).round(2)\n",
    "test_outputs"
   ]
  },
  {
   "cell_type": "code",
   "execution_count": 116,
   "metadata": {},
   "outputs": [
    {
     "data": {
      "text/plain": [
       "array([[0.37],\n",
       "       [0.53],\n",
       "       [0.75],\n",
       "       [0.51],\n",
       "       [0.02],\n",
       "       [0.58],\n",
       "       [0.73],\n",
       "       [0.52]])"
      ]
     },
     "execution_count": 116,
     "metadata": {},
     "output_type": "execute_result"
    }
   ],
   "source": [
    "test_targets.round(2)"
   ]
  },
  {
   "cell_type": "markdown",
   "metadata": {},
   "source": [
    "## Average error"
   ]
  },
  {
   "cell_type": "code",
   "execution_count": 139,
   "metadata": {},
   "outputs": [
    {
     "name": "stdout",
     "output_type": "stream",
     "text": [
      "\r",
      "8/8 [==============================] - 0s 4ms/sample - loss: 0.0419\n"
     ]
    },
    {
     "data": {
      "text/plain": [
       "('average error equals 1.6248322858661413',\n",
       " 'error percentage equals 5.440954645769485%')"
      ]
     },
     "execution_count": 139,
     "metadata": {},
     "output_type": "execute_result"
    }
   ],
   "source": [
    "a=model.evaluate(test_inputs,test_targets)*38.79\n",
    "\n",
    "f'average error equals {a}', f'error percentage equals {(a/29.863)*100}%'"
   ]
  },
  {
   "cell_type": "code",
   "execution_count": 135,
   "metadata": {},
   "outputs": [
    {
     "name": "stdout",
     "output_type": "stream",
     "text": [
      "[43.53179551] [0.04118871]\n"
     ]
    }
   ],
   "source": [
    "p=[]\n",
    "for i in range(len(train_targets)):\n",
    "    a=abs(train_targets[i]-train_outputs[i])*3879/29.863\n",
    "    p.append(a)\n",
    "print(max(p),min(p))"
   ]
  },
  {
   "cell_type": "code",
   "execution_count": 138,
   "metadata": {},
   "outputs": [
    {
     "name": "stdout",
     "output_type": "stream",
     "text": [
      "[11.98205307] [0.22670132]\n"
     ]
    }
   ],
   "source": [
    "p=[]\n",
    "for i in range(len(test_targets)):\n",
    "    a=abs(test_targets[i]-test_outputs[i])*3879/29.863\n",
    "    p.append(a)\n",
    "print(max(p),min(p))"
   ]
  },
  {
   "cell_type": "code",
   "execution_count": 137,
   "metadata": {},
   "outputs": [
    {
     "name": "stdout",
     "output_type": "stream",
     "text": [
      "35/35 [==============================] - 0s 2ms/sample - loss: 0.0375\n"
     ]
    },
    {
     "data": {
      "text/plain": [
       "('average error equals 1.4561218303442',\n",
       " 'error percentage equals 4.876006530972106%')"
      ]
     },
     "execution_count": 137,
     "metadata": {},
     "output_type": "execute_result"
    }
   ],
   "source": [
    "a=model.evaluate(train_inputs,train_targets)*38.79\n",
    "\n",
    "f'average error equals {a}', f'error percentage equals {(a/29.863)*100}%'"
   ]
  },
  {
   "cell_type": "code",
   "execution_count": 120,
   "metadata": {},
   "outputs": [
    {
     "data": {
      "image/png": "[encoded data removed]",
      "text/plain": [
       "<Figure size 432x288 with 1 Axes>"
      ]
     },
     "metadata": {},
     "output_type": "display_data"
    }
   ],
   "source": [
    "import matplotlib.pyplot as plt\n",
    "plt.scatter(test_outputs,test_targets,label='data')\n",
    "x= test_outputs\n",
    "y=test_targets\n",
    "m, b = np.polyfit(x, y, 1)\n",
    "plt.plot(x, m*x + b,'g',label='fit')\n",
    "plt.legend(loc='lower right',title='R_squared=0.966',fontsize=10)\n",
    "plt.title('Test',fontsize=20)\n",
    "plt.xlabel('test_outputs',fontsize=20)\n",
    "plt.ylabel('test_targets',fontsize=20)\n",
    "plt.xlim(0,0.8)\n",
    "plt.ylim(0,0.8)\n",
    "plt.grid(True)\n",
    "\n",
    "plt.show()"
   ]
  },
  {
   "cell_type": "code",
   "execution_count": 121,
   "metadata": {},
   "outputs": [
    {
     "name": "stderr",
     "output_type": "stream",
     "text": [
      "C:\\Users\\mady\\anaconda3\\envs\\Mywork\\lib\\site-packages\\scipy\\stats\\stats.py:1604: UserWarning: kurtosistest only valid for n>=20 ... continuing anyway, n=8\n",
      "  \"anyway, n=%i\" % int(n))\n"
     ]
    },
    {
     "data": {
      "text/html": [
       "<table class=\"simpletable\">\n",
       "<caption>OLS Regression Results</caption>\n",
       "<tr>\n",
       "  <th>Dep. Variable:</th>            <td>y</td>        <th>  R-squared:         </th> <td>   0.966</td>\n",
       "</tr>\n",
       "<tr>\n",
       "  <th>Model:</th>                   <td>OLS</td>       <th>  Adj. R-squared:    </th> <td>   0.961</td>\n",
       "</tr>\n",
       "<tr>\n",
       "  <th>Method:</th>             <td>Least Squares</td>  <th>  F-statistic:       </th> <td>   172.1</td>\n",
       "</tr>\n",
       "<tr>\n",
       "  <th>Date:</th>             <td>Sun, 28 Mar 2021</td> <th>  Prob (F-statistic):</th> <td>1.21e-05</td>\n",
       "</tr>\n",
       "<tr>\n",
       "  <th>Time:</th>                 <td>17:22:31</td>     <th>  Log-Likelihood:    </th> <td>  14.433</td>\n",
       "</tr>\n",
       "<tr>\n",
       "  <th>No. Observations:</th>      <td>     8</td>      <th>  AIC:               </th> <td>  -24.87</td>\n",
       "</tr>\n",
       "<tr>\n",
       "  <th>Df Residuals:</th>          <td>     6</td>      <th>  BIC:               </th> <td>  -24.71</td>\n",
       "</tr>\n",
       "<tr>\n",
       "  <th>Df Model:</th>              <td>     1</td>      <th>                     </th>     <td> </td>   \n",
       "</tr>\n",
       "<tr>\n",
       "  <th>Covariance Type:</th>      <td>nonrobust</td>    <th>                     </th>     <td> </td>   \n",
       "</tr>\n",
       "</table>\n",
       "<table class=\"simpletable\">\n",
       "<tr>\n",
       "    <td></td>       <th>coef</th>     <th>std err</th>      <th>t</th>      <th>P>|t|</th>  <th>[0.025</th>    <th>0.975]</th>  \n",
       "</tr>\n",
       "<tr>\n",
       "  <th>const</th> <td>    0.0225</td> <td>    0.040</td> <td>    0.563</td> <td> 0.594</td> <td>   -0.075</td> <td>    0.120</td>\n",
       "</tr>\n",
       "<tr>\n",
       "  <th>x1</th>    <td>    1.0208</td> <td>    0.078</td> <td>   13.120</td> <td> 0.000</td> <td>    0.830</td> <td>    1.211</td>\n",
       "</tr>\n",
       "</table>\n",
       "<table class=\"simpletable\">\n",
       "<tr>\n",
       "  <th>Omnibus:</th>       <td> 0.318</td> <th>  Durbin-Watson:     </th> <td>   1.645</td>\n",
       "</tr>\n",
       "<tr>\n",
       "  <th>Prob(Omnibus):</th> <td> 0.853</td> <th>  Jarque-Bera (JB):  </th> <td>   0.416</td>\n",
       "</tr>\n",
       "<tr>\n",
       "  <th>Skew:</th>          <td>-0.163</td> <th>  Prob(JB):          </th> <td>   0.812</td>\n",
       "</tr>\n",
       "<tr>\n",
       "  <th>Kurtosis:</th>      <td> 1.932</td> <th>  Cond. No.          </th> <td>    5.87</td>\n",
       "</tr>\n",
       "</table><br/><br/>Notes:<br/>[1] Standard Errors assume that the covariance matrix of the errors is correctly specified."
      ],
      "text/plain": [
       "<class 'statsmodels.iolib.summary.Summary'>\n",
       "\"\"\"\n",
       "                            OLS Regression Results                            \n",
       "==============================================================================\n",
       "Dep. Variable:                      y   R-squared:                       0.966\n",
       "Model:                            OLS   Adj. R-squared:                  0.961\n",
       "Method:                 Least Squares   F-statistic:                     172.1\n",
       "Date:                Sun, 28 Mar 2021   Prob (F-statistic):           1.21e-05\n",
       "Time:                        17:22:31   Log-Likelihood:                 14.433\n",
       "No. Observations:                   8   AIC:                            -24.87\n",
       "Df Residuals:                       6   BIC:                            -24.71\n",
       "Df Model:                           1                                         \n",
       "Covariance Type:            nonrobust                                         \n",
       "==============================================================================\n",
       "                 coef    std err          t      P>|t|      [0.025      0.975]\n",
       "------------------------------------------------------------------------------\n",
       "const          0.0225      0.040      0.563      0.594      -0.075       0.120\n",
       "x1             1.0208      0.078     13.120      0.000       0.830       1.211\n",
       "==============================================================================\n",
       "Omnibus:                        0.318   Durbin-Watson:                   1.645\n",
       "Prob(Omnibus):                  0.853   Jarque-Bera (JB):                0.416\n",
       "Skew:                          -0.163   Prob(JB):                        0.812\n",
       "Kurtosis:                       1.932   Cond. No.                         5.87\n",
       "==============================================================================\n",
       "\n",
       "Notes:\n",
       "[1] Standard Errors assume that the covariance matrix of the errors is correctly specified.\n",
       "\"\"\""
      ]
     },
     "execution_count": 121,
     "metadata": {},
     "output_type": "execute_result"
    }
   ],
   "source": [
    "y = test_targets\n",
    "x1 = test_outputs\n",
    "x = sm.add_constant(x1)\n",
    "results = sm.OLS(y,x).fit()\n",
    "results.summary()"
   ]
  },
  {
   "cell_type": "markdown",
   "metadata": {},
   "source": [
    "### saving the model"
   ]
  },
  {
   "cell_type": "code",
   "execution_count": 37,
   "metadata": {},
   "outputs": [],
   "source": [
    "model.save('fp_oil_model.h5') "
   ]
  },
  {
   "cell_type": "markdown",
   "metadata": {},
   "source": [
    "### retrieving the model"
   ]
  },
  {
   "cell_type": "code",
   "execution_count": 3,
   "metadata": {},
   "outputs": [],
   "source": [
    "model = tf.keras.models.load_model('fp_oil_model.h5')"
   ]
  },
  {
   "cell_type": "code",
   "execution_count": 4,
   "metadata": {},
   "outputs": [],
   "source": [
    "import joblib\n",
    "trans1=joblib.load('f3')\n",
    "trans2=joblib.load('f4')"
   ]
  },
  {
   "cell_type": "markdown",
   "metadata": {},
   "source": [
    "### Model deployment"
   ]
  },
  {
   "cell_type": "code",
   "execution_count": 5,
   "metadata": {},
   "outputs": [
    {
     "name": "stdout",
     "output_type": "stream",
     "text": [
      "enter your carbon percentage%:>>>44\n",
      "enter your hydrogen percentage%:>>>5\n",
      "enter your oxygen percentage%:>>>22\n",
      "enter your temperature in Kelvin:>>>500\n",
      "enter your particle size:>>>1\n",
      "your oil yield wt% equals[[18.61584169]]\n"
     ]
    }
   ],
   "source": [
    "C=float(input('enter your carbon percentage%:>>>'))\n",
    "H=float(input('enter your hydrogen percentage%:>>>'))\n",
    "O=float(input('enter your oxygen percentage%:>>>'))\n",
    "T=float(input('enter your temperature in Kelvin:>>>'))\n",
    "PS=float(input('enter your particle size:>>>'))\n",
    "\n",
    "\n",
    "\n",
    "a=np.array([[C,H,O,T,PS],\n",
    "           ])\n",
    "\n",
    "x= trans1.transform(a)\n",
    "\n",
    "y=model(x)\n",
    "real_y= trans2.inverse_transform(y)\n",
    "\n",
    "print(f'your oil yield wt% equals{real_y}')\n"
   ]
  },
  {
   "cell_type": "markdown",
   "metadata": {},
   "source": [
    "### Model optimization"
   ]
  },
  {
   "cell_type": "code",
   "execution_count": 125,
   "metadata": {},
   "outputs": [],
   "source": [
    "from scipy.optimize import minimize\n",
    "from scipy.optimize import differential_evolution\n",
    "from scipy.optimize import dual_annealing\n",
    "from scipy.optimize import NonlinearConstraint\n",
    "import warnings\n",
    "warnings.filterwarnings(\"ignore\")\n",
    "np.set_printoptions(suppress=True)"
   ]
  },
  {
   "cell_type": "markdown",
   "metadata": {},
   "source": [
    "### Differential Evolution optimizer"
   ]
  },
  {
   "cell_type": "code",
   "execution_count": 142,
   "metadata": {},
   "outputs": [
    {
     "name": "stdout",
     "output_type": "stream",
     "text": [
      "           constr: [array([0.])]\n",
      " constr_violation: 0.0\n",
      "              fun: -1.1330647468566895\n",
      "            maxcv: 0.0\n",
      "          message: 'Optimization terminated successfully.'\n",
      "             nfev: 3380\n",
      "              nit: 57\n",
      "          success: True\n",
      "                x: array([0.97849844, 0.99886841, 0.00037118, 0.00003835, 0.00036   ])\n"
     ]
    }
   ],
   "source": [
    "def objective(x, sign=-1.0):  \n",
    "    \n",
    "    z=np.array([x,])\n",
    "    y=model.predict_on_batch(z)\n",
    "    return float(np.squeeze(sign*y))\n",
    "\n",
    "\n",
    "def constraint1(x):\n",
    "    \n",
    "    z=np.array([x,])\n",
    "    b= list(np.squeeze(trans1.inverse_transform(z)))\n",
    "    C=b[0]\n",
    "    H=b[1]\n",
    "    O=b[2]\n",
    "   \n",
    "    return (C+H+O)\n",
    "cons= NonlinearConstraint(constraint1, 12., 100.)\n",
    "\n",
    "\n",
    "\n",
    "b1 = (0.,1.)\n",
    "b2 = (0.,1.)\n",
    "b3 = (0.,1.)\n",
    "b4 = (0.,1.)\n",
    "b5 = (0.,1.)\n",
    "\n",
    "\n",
    "bnds= (b1,b2,b3,b4,b5)\n",
    "x0=[0.9999,0.1221,0.000047,0.66769,0.7336]\n",
    "\n",
    "\n",
    "sol = differential_evolution(objective,bounds=bnds,constraints=cons,maxiter=1000)\n",
    "print(sol)"
   ]
  },
  {
   "cell_type": "code",
   "execution_count": 143,
   "metadata": {},
   "outputs": [
    {
     "name": "stdout",
     "output_type": "stream",
     "text": [
      "[[ 58.04179829   7.44722762  31.36918311 400.02300753   0.0806912 ]]\n"
     ]
    },
    {
     "data": {
      "text/plain": [
       "'the maximum oil yield equals [[52.53158153]] wt%'"
      ]
     },
     "execution_count": 143,
     "metadata": {},
     "output_type": "execute_result"
    }
   ],
   "source": [
    "print(trans1.inverse_transform((sol.x).reshape(1,-1)))\n",
    "f'the maximum oil yield equals {trans2.inverse_transform(np.array([-sol.fun]).reshape(-1,1))} wt%'"
   ]
  },
  {
   "cell_type": "markdown",
   "metadata": {},
   "source": [
    "### Dual Annealing optimizer"
   ]
  },
  {
   "cell_type": "code",
   "execution_count": 146,
   "metadata": {},
   "outputs": [
    {
     "name": "stdout",
     "output_type": "stream",
     "text": [
      "     fun: -1.1349557638168335\n",
      " message: ['Maximum number of iteration reached']\n",
      "    nfev: 8883\n",
      "    nhev: 0\n",
      "     nit: 800\n",
      "    njev: 147\n",
      "  status: 0\n",
      " success: True\n",
      "       x: array([0.99954901, 1.        , 0.        , 0.00000001, 0.0001306 ])\n"
     ]
    }
   ],
   "source": [
    "def objective(x, sign=-1.0):  \n",
    "    \n",
    "    z=np.array([x,])\n",
    "    y=model.predict_on_batch(z)\n",
    "    return float(np.squeeze(sign*y))\n",
    "\n",
    "\n",
    "\n",
    "b1 = (0.,1.)\n",
    "b2 = (0.,1.)\n",
    "b3 = (0.,1.)\n",
    "b4 = (0.,1.)\n",
    "b5 = (0.,1.)\n",
    "\n",
    "\n",
    "\n",
    "bnds= (b1,b2,b3,b4,b5)\n",
    "# x0=[0.9999,0.1221,0.000047,0.66769,0.7336]\n",
    "\n",
    "\n",
    "sol = dual_annealing(objective,bounds=bnds,maxiter=800)\n",
    "\n",
    "print(sol)"
   ]
  },
  {
   "cell_type": "markdown",
   "metadata": {},
   "source": [
    "### Significanc test"
   ]
  },
  {
   "cell_type": "code",
   "execution_count": 7,
   "metadata": {},
   "outputs": [
    {
     "name": "stdout",
     "output_type": "stream",
     "text": [
      "{'C': 0.11412, 'H': 0.28556, 'O': 0.08155, 'T': 0.58698, 'PS': 1.07}\n"
     ]
    }
   ],
   "source": [
    "list1= ['C','H','O','T','PS']\n",
    "w=[]\n",
    "b={}\n",
    "inp=train_inputs\n",
    "inp = tf.Variable(inp, dtype=tf.float32)\n",
    "\n",
    "with tf.GradientTape() as tape:\n",
    "    preds = model(inp)\n",
    "grads = np.squeeze(tape.gradient(preds, inp))\n",
    "\n",
    "for i in range(train_inputs.shape[1]):\n",
    "    a=sum((grads[:,i])**2)/(train_inputs.shape[0])\n",
    "    w.append(a.round(5))\n",
    "for i in range(train_inputs.shape[1]):\n",
    "    b[list1[i]]=w[i]\n",
    "print(b)"
   ]
  },
  {
   "cell_type": "code",
   "execution_count": 8,
   "metadata": {},
   "outputs": [
    {
     "name": "stdout",
     "output_type": "stream",
     "text": [
      "[0.053, 0.134, 0.038, 0.275, 0.5]\n"
     ]
    }
   ],
   "source": [
    "t=[]\n",
    "for i in w:\n",
    "    t.append((i/sum(w)).round(3))\n",
    "print(t)"
   ]
  },
  {
   "cell_type": "code",
   "execution_count": 9,
   "metadata": {},
   "outputs": [
    {
     "data": {
      "text/plain": [
       "[Text(0.5, 0, 'variables'), Text(0, 0.5, 'sensitivity')]"
      ]
     },
     "execution_count": 9,
     "metadata": {},
     "output_type": "execute_result"
    },
    {
     "data": {
      "image/png": "[encoded data removed]",
      "text/plain": [
       "<Figure size 432x288 with 1 Axes>"
      ]
     },
     "metadata": {},
     "output_type": "display_data"
    }
   ],
   "source": [
    "import seaborn as sns\n",
    "sns.barplot(x=list1,y=t).set(xlabel='variables',ylabel='sensitivity')"
   ]
  },
  {
   "cell_type": "code",
   "execution_count": null,
   "metadata": {},
   "outputs": [],
   "source": []
  }
 ],
 "metadata": {
  "kernelspec": {
   "display_name": "Python 3",
   "language": "python",
   "name": "python3"
  },
  "language_info": {
   "codemirror_mode": {
    "name": "ipython",
    "version": 3
   },
   "file_extension": ".py",
   "mimetype": "text/x-python",
   "name": "python",
   "nbconvert_exporter": "python",
   "pygments_lexer": "ipython3",
   "version": "3.9.2"
  }
 },
 "nbformat": 4,
 "nbformat_minor": 2
}
