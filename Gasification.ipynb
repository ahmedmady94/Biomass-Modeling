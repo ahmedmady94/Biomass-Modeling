{
 "cells": [
  {
   "cell_type": "markdown",
   "metadata": {},
   "source": [
    "# Gasification Gas yield model run"
   ]
  },
  {
   "cell_type": "markdown",
   "metadata": {},
   "source": [
    "### Import the relevant libraries"
   ]
  },
  {
   "cell_type": "code",
   "execution_count": 1,
   "metadata": {},
   "outputs": [
    {
     "name": "stdout",
     "output_type": "stream",
     "text": [
      "INFO:tensorflow:Enabling eager execution\n",
      "INFO:tensorflow:Enabling v2 tensorshape\n",
      "INFO:tensorflow:Enabling resource variables\n",
      "INFO:tensorflow:Enabling tensor equality\n",
      "INFO:tensorflow:Enabling control flow v2\n"
     ]
    }
   ],
   "source": [
    "import numpy as np\n",
    "import tensorflow as tf\n",
    "import statsmodels.api as sm"
   ]
  },
  {
   "cell_type": "markdown",
   "metadata": {},
   "source": [
    "### Data"
   ]
  },
  {
   "cell_type": "code",
   "execution_count": 2,
   "metadata": {},
   "outputs": [],
   "source": [
    "npz = np.load('Gasif1.npz')\n",
    "\n",
    "train_inputs = npz['inputs'].astype(np.float)\n",
    "train_targets = npz['targets'].astype(np.float)\n",
    "\n",
    "npz = np.load('Gasif2.npz')\n",
    "validation_inputs, validation_targets = npz['inputs'].astype(np.float), npz['targets'].astype(np.float)\n",
    "\n",
    "npz = np.load('Gasif3.npz')\n",
    "test_inputs, test_targets = npz['inputs'].astype(np.float), npz['targets'].astype(np.float)"
   ]
  },
  {
   "cell_type": "markdown",
   "metadata": {},
   "source": [
    "### Model\n",
    "Outline, optimizers, loss, early stopping and training"
   ]
  },
  {
   "cell_type": "code",
   "execution_count": 116,
   "metadata": {},
   "outputs": [
    {
     "name": "stdout",
     "output_type": "stream",
     "text": [
      "Train on 70 samples, validate on 15 samples\n",
      "Epoch 1/900\n",
      "70/70 - 1s - loss: 0.2409 - val_loss: 0.1635\n",
      "Epoch 2/900\n",
      "70/70 - 0s - loss: 0.2191 - val_loss: 0.2307\n",
      "Epoch 3/900\n",
      "70/70 - 0s - loss: 0.1950 - val_loss: 0.2087\n",
      "Epoch 4/900\n",
      "70/70 - 0s - loss: 0.1969 - val_loss: 0.1558\n",
      "Epoch 5/900\n",
      "70/70 - 0s - loss: 0.2079 - val_loss: 0.1888\n",
      "Epoch 6/900\n",
      "70/70 - 0s - loss: 0.1733 - val_loss: 0.1867\n",
      "Epoch 7/900\n",
      "70/70 - 0s - loss: 0.1844 - val_loss: 0.2384\n",
      "Epoch 8/900\n",
      "70/70 - 0s - loss: 0.2099 - val_loss: 0.1634\n",
      "Epoch 9/900\n",
      "70/70 - 0s - loss: 0.1593 - val_loss: 0.1962\n",
      "Epoch 10/900\n",
      "70/70 - 0s - loss: 0.1495 - val_loss: 0.1591\n",
      "Epoch 11/900\n",
      "70/70 - 0s - loss: 0.1476 - val_loss: 0.1774\n",
      "Epoch 12/900\n",
      "70/70 - 0s - loss: 0.1875 - val_loss: 0.1473\n",
      "Epoch 13/900\n",
      "70/70 - 0s - loss: 0.1602 - val_loss: 0.1760\n",
      "Epoch 14/900\n",
      "70/70 - 0s - loss: 0.1463 - val_loss: 0.1549\n",
      "Epoch 15/900\n",
      "70/70 - 0s - loss: 0.1450 - val_loss: 0.1511\n",
      "Epoch 16/900\n",
      "70/70 - 0s - loss: 0.1431 - val_loss: 0.1856\n",
      "Epoch 17/900\n",
      "70/70 - 0s - loss: 0.1468 - val_loss: 0.1563\n",
      "Epoch 18/900\n",
      "70/70 - 0s - loss: 0.1544 - val_loss: 0.1729\n",
      "Epoch 19/900\n",
      "70/70 - 0s - loss: 0.1530 - val_loss: 0.1534\n",
      "Epoch 20/900\n",
      "70/70 - 0s - loss: 0.1488 - val_loss: 0.1870\n",
      "Epoch 21/900\n",
      "70/70 - 0s - loss: 0.1732 - val_loss: 0.1471\n",
      "Epoch 22/900\n",
      "70/70 - 0s - loss: 0.1686 - val_loss: 0.1585\n",
      "Epoch 23/900\n",
      "70/70 - 0s - loss: 0.2117 - val_loss: 0.1944\n",
      "Epoch 24/900\n",
      "70/70 - 0s - loss: 0.2012 - val_loss: 0.1562\n",
      "Epoch 25/900\n",
      "70/70 - 0s - loss: 0.1462 - val_loss: 0.1749\n",
      "Epoch 26/900\n",
      "70/70 - 0s - loss: 0.1509 - val_loss: 0.1990\n",
      "Epoch 27/900\n",
      "70/70 - 0s - loss: 0.1569 - val_loss: 0.1795\n",
      "Epoch 28/900\n",
      "70/70 - 0s - loss: 0.1423 - val_loss: 0.1471\n",
      "Epoch 29/900\n",
      "70/70 - 0s - loss: 0.1429 - val_loss: 0.1974\n",
      "Epoch 30/900\n",
      "70/70 - 0s - loss: 0.1598 - val_loss: 0.1682\n",
      "Epoch 31/900\n",
      "70/70 - 0s - loss: 0.1397 - val_loss: 0.1443\n",
      "Epoch 32/900\n",
      "70/70 - 0s - loss: 0.1393 - val_loss: 0.1561\n",
      "Epoch 33/900\n",
      "70/70 - 0s - loss: 0.1512 - val_loss: 0.1432\n",
      "Epoch 34/900\n",
      "70/70 - 0s - loss: 0.1286 - val_loss: 0.1548\n",
      "Epoch 35/900\n",
      "70/70 - 0s - loss: 0.1322 - val_loss: 0.1579\n",
      "Epoch 36/900\n",
      "70/70 - 0s - loss: 0.1319 - val_loss: 0.1406\n",
      "Epoch 37/900\n",
      "70/70 - 0s - loss: 0.1264 - val_loss: 0.1391\n",
      "Epoch 38/900\n",
      "70/70 - 0s - loss: 0.1200 - val_loss: 0.1735\n",
      "Epoch 39/900\n",
      "70/70 - 0s - loss: 0.1426 - val_loss: 0.1716\n",
      "Epoch 40/900\n",
      "70/70 - 0s - loss: 0.1709 - val_loss: 0.1815\n",
      "Epoch 41/900\n",
      "70/70 - 0s - loss: 0.1563 - val_loss: 0.1518\n",
      "Epoch 42/900\n",
      "70/70 - 0s - loss: 0.1379 - val_loss: 0.1320\n",
      "Epoch 43/900\n",
      "70/70 - 0s - loss: 0.1266 - val_loss: 0.1324\n",
      "Epoch 44/900\n",
      "70/70 - 0s - loss: 0.1293 - val_loss: 0.1289\n",
      "Epoch 45/900\n",
      "70/70 - 0s - loss: 0.1208 - val_loss: 0.1370\n",
      "Epoch 46/900\n",
      "70/70 - 0s - loss: 0.1436 - val_loss: 0.1711\n",
      "Epoch 47/900\n",
      "70/70 - 0s - loss: 0.1545 - val_loss: 0.1494\n",
      "Epoch 48/900\n",
      "70/70 - 0s - loss: 0.1386 - val_loss: 0.1547\n",
      "Epoch 49/900\n",
      "70/70 - 0s - loss: 0.1417 - val_loss: 0.1488\n",
      "Epoch 50/900\n",
      "70/70 - 0s - loss: 0.1467 - val_loss: 0.1783\n",
      "Epoch 51/900\n",
      "70/70 - 0s - loss: 0.1514 - val_loss: 0.1529\n",
      "Epoch 52/900\n",
      "70/70 - 0s - loss: 0.1498 - val_loss: 0.1205\n",
      "Epoch 53/900\n",
      "70/70 - 0s - loss: 0.1335 - val_loss: 0.1326\n",
      "Epoch 54/900\n",
      "70/70 - 0s - loss: 0.1296 - val_loss: 0.1574\n",
      "Epoch 55/900\n",
      "70/70 - 0s - loss: 0.1257 - val_loss: 0.1281\n",
      "Epoch 56/900\n",
      "70/70 - 0s - loss: 0.1203 - val_loss: 0.1543\n",
      "Epoch 57/900\n",
      "70/70 - 0s - loss: 0.1348 - val_loss: 0.1448\n",
      "Epoch 58/900\n",
      "70/70 - 0s - loss: 0.1288 - val_loss: 0.1596\n",
      "Epoch 59/900\n",
      "70/70 - 0s - loss: 0.1270 - val_loss: 0.1382\n",
      "Epoch 60/900\n",
      "70/70 - 0s - loss: 0.1307 - val_loss: 0.1175\n",
      "Epoch 61/900\n",
      "70/70 - 0s - loss: 0.1226 - val_loss: 0.1102\n",
      "Epoch 62/900\n",
      "70/70 - 0s - loss: 0.1252 - val_loss: 0.1425\n",
      "Epoch 63/900\n",
      "70/70 - 0s - loss: 0.1165 - val_loss: 0.1088\n",
      "Epoch 64/900\n",
      "70/70 - 0s - loss: 0.1240 - val_loss: 0.1267\n",
      "Epoch 65/900\n",
      "70/70 - 0s - loss: 0.1218 - val_loss: 0.1446\n",
      "Epoch 66/900\n",
      "70/70 - 0s - loss: 0.1298 - val_loss: 0.1487\n",
      "Epoch 67/900\n",
      "70/70 - 0s - loss: 0.1215 - val_loss: 0.1267\n",
      "Epoch 68/900\n",
      "70/70 - 0s - loss: 0.1316 - val_loss: 0.1132\n",
      "Epoch 69/900\n",
      "70/70 - 0s - loss: 0.1336 - val_loss: 0.1278\n",
      "Epoch 70/900\n",
      "70/70 - 0s - loss: 0.1301 - val_loss: 0.1120\n",
      "Epoch 71/900\n",
      "70/70 - 0s - loss: 0.1416 - val_loss: 0.1157\n",
      "Epoch 72/900\n",
      "70/70 - 0s - loss: 0.1083 - val_loss: 0.1128\n",
      "Epoch 73/900\n",
      "70/70 - 0s - loss: 0.1027 - val_loss: 0.1092\n",
      "Epoch 74/900\n",
      "70/70 - 0s - loss: 0.1118 - val_loss: 0.1509\n",
      "Epoch 75/900\n",
      "70/70 - 0s - loss: 0.1269 - val_loss: 0.1283\n",
      "Epoch 76/900\n",
      "70/70 - 0s - loss: 0.1246 - val_loss: 0.1250\n",
      "Epoch 77/900\n",
      "70/70 - 0s - loss: 0.1180 - val_loss: 0.1189\n",
      "Epoch 78/900\n",
      "70/70 - 0s - loss: 0.1048 - val_loss: 0.1100\n",
      "Epoch 79/900\n",
      "70/70 - 0s - loss: 0.1038 - val_loss: 0.1259\n",
      "Epoch 80/900\n",
      "70/70 - 0s - loss: 0.1405 - val_loss: 0.1458\n",
      "Epoch 81/900\n",
      "70/70 - 0s - loss: 0.1667 - val_loss: 0.1346\n",
      "Epoch 82/900\n",
      "70/70 - 0s - loss: 0.1461 - val_loss: 0.1875\n",
      "Epoch 83/900\n",
      "70/70 - 0s - loss: 0.1604 - val_loss: 0.1394\n",
      "Epoch 84/900\n",
      "70/70 - 0s - loss: 0.1364 - val_loss: 0.1222\n",
      "Epoch 85/900\n",
      "70/70 - 0s - loss: 0.1225 - val_loss: 0.1488\n",
      "Epoch 86/900\n",
      "70/70 - 0s - loss: 0.1323 - val_loss: 0.1520\n",
      "Epoch 87/900\n",
      "70/70 - 0s - loss: 0.1412 - val_loss: 0.1363\n",
      "Epoch 88/900\n",
      "70/70 - 0s - loss: 0.1358 - val_loss: 0.1378\n",
      "Epoch 89/900\n",
      "70/70 - 0s - loss: 0.1514 - val_loss: 0.1286\n",
      "Epoch 90/900\n",
      "70/70 - 0s - loss: 0.1171 - val_loss: 0.1505\n",
      "Epoch 91/900\n",
      "70/70 - 0s - loss: 0.1320 - val_loss: 0.1817\n",
      "Epoch 92/900\n",
      "70/70 - 0s - loss: 0.1615 - val_loss: 0.1469\n",
      "Epoch 93/900\n",
      "70/70 - 0s - loss: 0.1229 - val_loss: 0.1326\n",
      "Epoch 94/900\n",
      "70/70 - 0s - loss: 0.1142 - val_loss: 0.1261\n",
      "Epoch 95/900\n",
      "70/70 - 0s - loss: 0.1023 - val_loss: 0.1013\n",
      "Epoch 96/900\n",
      "70/70 - 0s - loss: 0.1086 - val_loss: 0.1168\n",
      "Epoch 97/900\n",
      "70/70 - 0s - loss: 0.1095 - val_loss: 0.0959\n",
      "Epoch 98/900\n",
      "70/70 - 0s - loss: 0.1188 - val_loss: 0.1514\n",
      "Epoch 99/900\n",
      "70/70 - 0s - loss: 0.1090 - val_loss: 0.1367\n",
      "Epoch 100/900\n",
      "70/70 - 0s - loss: 0.1365 - val_loss: 0.1334\n",
      "Epoch 101/900\n",
      "70/70 - 0s - loss: 0.1117 - val_loss: 0.1223\n",
      "Epoch 102/900\n",
      "70/70 - 0s - loss: 0.1220 - val_loss: 0.1237\n",
      "Epoch 103/900\n",
      "70/70 - 0s - loss: 0.1099 - val_loss: 0.1230\n",
      "Epoch 104/900\n",
      "70/70 - 0s - loss: 0.0990 - val_loss: 0.1003\n",
      "Epoch 105/900\n",
      "70/70 - 0s - loss: 0.0937 - val_loss: 0.1358\n",
      "Epoch 106/900\n",
      "70/70 - 0s - loss: 0.1529 - val_loss: 0.1202\n",
      "Epoch 107/900\n",
      "70/70 - 0s - loss: 0.1205 - val_loss: 0.1332\n",
      "Epoch 108/900\n",
      "70/70 - 0s - loss: 0.1407 - val_loss: 0.1699\n",
      "Epoch 109/900\n",
      "70/70 - 0s - loss: 0.1342 - val_loss: 0.1074\n",
      "Epoch 110/900\n",
      "70/70 - 0s - loss: 0.0962 - val_loss: 0.1203\n",
      "Epoch 111/900\n",
      "70/70 - 0s - loss: 0.1093 - val_loss: 0.1121\n",
      "Epoch 112/900\n",
      "70/70 - 0s - loss: 0.1017 - val_loss: 0.1144\n",
      "Epoch 113/900\n",
      "70/70 - 0s - loss: 0.1218 - val_loss: 0.1215\n",
      "Epoch 114/900\n",
      "70/70 - 0s - loss: 0.1084 - val_loss: 0.1041\n",
      "Epoch 115/900\n",
      "70/70 - 0s - loss: 0.1386 - val_loss: 0.1146\n",
      "Epoch 116/900\n",
      "70/70 - 0s - loss: 0.1087 - val_loss: 0.1028\n",
      "Epoch 117/900\n",
      "70/70 - 0s - loss: 0.1136 - val_loss: 0.1145\n",
      "Epoch 118/900\n",
      "70/70 - 0s - loss: 0.1151 - val_loss: 0.1003\n",
      "Epoch 119/900\n",
      "70/70 - 0s - loss: 0.1067 - val_loss: 0.1220\n",
      "Epoch 120/900\n",
      "70/70 - 0s - loss: 0.1090 - val_loss: 0.1005\n",
      "Epoch 121/900\n",
      "70/70 - 0s - loss: 0.1033 - val_loss: 0.1044\n",
      "Epoch 122/900\n",
      "70/70 - 0s - loss: 0.1159 - val_loss: 0.0990\n",
      "Epoch 123/900\n",
      "70/70 - 0s - loss: 0.0975 - val_loss: 0.0991\n",
      "Epoch 124/900\n",
      "70/70 - 0s - loss: 0.1005 - val_loss: 0.0952\n",
      "Epoch 125/900\n",
      "70/70 - 0s - loss: 0.1051 - val_loss: 0.1227\n",
      "Epoch 126/900\n",
      "70/70 - 0s - loss: 0.1191 - val_loss: 0.1025\n",
      "Epoch 127/900\n",
      "70/70 - 0s - loss: 0.0947 - val_loss: 0.1154\n",
      "Epoch 128/900\n",
      "70/70 - 0s - loss: 0.1006 - val_loss: 0.1044\n",
      "Epoch 129/900\n",
      "70/70 - 0s - loss: 0.1228 - val_loss: 0.1445\n",
      "Epoch 130/900\n",
      "70/70 - 0s - loss: 0.1467 - val_loss: 0.1177\n",
      "Epoch 131/900\n",
      "70/70 - 0s - loss: 0.1351 - val_loss: 0.0913\n",
      "Epoch 132/900\n",
      "70/70 - 0s - loss: 0.0998 - val_loss: 0.1059\n",
      "Epoch 133/900\n",
      "70/70 - 0s - loss: 0.1248 - val_loss: 0.1127\n",
      "Epoch 134/900\n",
      "70/70 - 0s - loss: 0.1052 - val_loss: 0.0911\n",
      "Epoch 135/900\n",
      "70/70 - 0s - loss: 0.0999 - val_loss: 0.0840\n",
      "Epoch 136/900\n",
      "70/70 - 0s - loss: 0.0970 - val_loss: 0.0972\n",
      "Epoch 137/900\n",
      "70/70 - 0s - loss: 0.0964 - val_loss: 0.1212\n",
      "Epoch 138/900\n",
      "70/70 - 0s - loss: 0.0902 - val_loss: 0.0816\n",
      "Epoch 139/900\n",
      "70/70 - 0s - loss: 0.0996 - val_loss: 0.1154\n",
      "Epoch 140/900\n",
      "70/70 - 0s - loss: 0.1073 - val_loss: 0.1316\n"
     ]
    },
    {
     "name": "stdout",
     "output_type": "stream",
     "text": [
      "Epoch 141/900\n",
      "70/70 - 0s - loss: 0.1492 - val_loss: 0.0971\n",
      "Epoch 142/900\n",
      "70/70 - 0s - loss: 0.1244 - val_loss: 0.0878\n",
      "Epoch 143/900\n",
      "70/70 - 0s - loss: 0.0984 - val_loss: 0.0915\n",
      "Epoch 144/900\n",
      "70/70 - 0s - loss: 0.1000 - val_loss: 0.1189\n",
      "Epoch 145/900\n",
      "70/70 - 0s - loss: 0.0858 - val_loss: 0.0800\n",
      "Epoch 146/900\n",
      "70/70 - 0s - loss: 0.0865 - val_loss: 0.0958\n",
      "Epoch 147/900\n",
      "70/70 - 0s - loss: 0.0867 - val_loss: 0.0727\n",
      "Epoch 148/900\n",
      "70/70 - 0s - loss: 0.1018 - val_loss: 0.1007\n",
      "Epoch 149/900\n",
      "70/70 - 0s - loss: 0.1236 - val_loss: 0.0839\n",
      "Epoch 150/900\n",
      "70/70 - 0s - loss: 0.0947 - val_loss: 0.0979\n",
      "Epoch 151/900\n",
      "70/70 - 0s - loss: 0.0968 - val_loss: 0.0916\n",
      "Epoch 152/900\n",
      "70/70 - 0s - loss: 0.0971 - val_loss: 0.0834\n",
      "Epoch 153/900\n",
      "70/70 - 0s - loss: 0.1229 - val_loss: 0.0836\n",
      "Epoch 154/900\n",
      "70/70 - 0s - loss: 0.1007 - val_loss: 0.0990\n",
      "Epoch 155/900\n",
      "70/70 - 0s - loss: 0.1104 - val_loss: 0.0800\n",
      "Epoch 156/900\n",
      "70/70 - 0s - loss: 0.1105 - val_loss: 0.1304\n",
      "Epoch 157/900\n",
      "70/70 - 0s - loss: 0.0985 - val_loss: 0.1290\n",
      "Epoch 158/900\n",
      "70/70 - 0s - loss: 0.0936 - val_loss: 0.1060\n",
      "Epoch 159/900\n",
      "70/70 - 0s - loss: 0.0848 - val_loss: 0.1150\n",
      "Epoch 160/900\n",
      "70/70 - 0s - loss: 0.1277 - val_loss: 0.1328\n",
      "Epoch 161/900\n",
      "70/70 - 0s - loss: 0.1042 - val_loss: 0.1144\n",
      "Epoch 162/900\n",
      "70/70 - 0s - loss: 0.1009 - val_loss: 0.1435\n",
      "Epoch 163/900\n",
      "70/70 - 0s - loss: 0.1080 - val_loss: 0.1000\n",
      "Epoch 164/900\n",
      "70/70 - 0s - loss: 0.1054 - val_loss: 0.0903\n",
      "Epoch 165/900\n",
      "70/70 - 0s - loss: 0.0884 - val_loss: 0.1160\n",
      "Epoch 166/900\n",
      "70/70 - 0s - loss: 0.0941 - val_loss: 0.0913\n",
      "Epoch 167/900\n",
      "70/70 - 0s - loss: 0.1200 - val_loss: 0.1392\n",
      "Epoch 168/900\n",
      "70/70 - 0s - loss: 0.1077 - val_loss: 0.0861\n",
      "Epoch 169/900\n",
      "70/70 - 0s - loss: 0.0979 - val_loss: 0.1241\n",
      "Epoch 170/900\n",
      "70/70 - 0s - loss: 0.0874 - val_loss: 0.0846\n",
      "Epoch 171/900\n",
      "70/70 - 0s - loss: 0.0803 - val_loss: 0.1107\n",
      "Epoch 172/900\n",
      "70/70 - 0s - loss: 0.0916 - val_loss: 0.0810\n",
      "Epoch 173/900\n",
      "70/70 - 0s - loss: 0.0957 - val_loss: 0.0712\n",
      "Epoch 174/900\n",
      "70/70 - 0s - loss: 0.0796 - val_loss: 0.0795\n",
      "Epoch 175/900\n",
      "70/70 - 0s - loss: 0.0812 - val_loss: 0.0751\n",
      "Epoch 176/900\n",
      "70/70 - 0s - loss: 0.0844 - val_loss: 0.1374\n",
      "Epoch 177/900\n",
      "70/70 - 0s - loss: 0.1300 - val_loss: 0.1464\n",
      "Epoch 178/900\n",
      "70/70 - 0s - loss: 0.1413 - val_loss: 0.1155\n",
      "Epoch 179/900\n",
      "70/70 - 0s - loss: 0.1038 - val_loss: 0.0774\n",
      "Epoch 180/900\n",
      "70/70 - 0s - loss: 0.0881 - val_loss: 0.0807\n",
      "Epoch 181/900\n",
      "70/70 - 0s - loss: 0.1051 - val_loss: 0.1399\n",
      "Epoch 182/900\n",
      "70/70 - 0s - loss: 0.1161 - val_loss: 0.1014\n",
      "Epoch 183/900\n",
      "70/70 - 0s - loss: 0.1190 - val_loss: 0.0727\n",
      "Epoch 184/900\n",
      "70/70 - 0s - loss: 0.0869 - val_loss: 0.1045\n",
      "Epoch 185/900\n",
      "70/70 - 0s - loss: 0.0863 - val_loss: 0.1001\n",
      "Epoch 186/900\n",
      "70/70 - 0s - loss: 0.0886 - val_loss: 0.1003\n",
      "Epoch 187/900\n",
      "70/70 - 0s - loss: 0.0931 - val_loss: 0.1108\n",
      "Epoch 188/900\n",
      "70/70 - 0s - loss: 0.0856 - val_loss: 0.0879\n",
      "Epoch 189/900\n",
      "70/70 - 0s - loss: 0.0865 - val_loss: 0.1476\n",
      "Epoch 190/900\n",
      "70/70 - 0s - loss: 0.1114 - val_loss: 0.1015\n",
      "Epoch 191/900\n",
      "70/70 - 0s - loss: 0.1110 - val_loss: 0.0614\n",
      "Epoch 192/900\n",
      "70/70 - 0s - loss: 0.1332 - val_loss: 0.1087\n",
      "Epoch 193/900\n",
      "70/70 - 0s - loss: 0.1169 - val_loss: 0.1263\n",
      "Epoch 194/900\n",
      "70/70 - 0s - loss: 0.0967 - val_loss: 0.1199\n",
      "Epoch 195/900\n",
      "70/70 - 0s - loss: 0.0957 - val_loss: 0.0851\n",
      "Epoch 196/900\n",
      "70/70 - 0s - loss: 0.1036 - val_loss: 0.0983\n",
      "Epoch 197/900\n",
      "70/70 - 0s - loss: 0.0886 - val_loss: 0.0773\n",
      "Epoch 198/900\n",
      "70/70 - 0s - loss: 0.0876 - val_loss: 0.0909\n",
      "Epoch 199/900\n",
      "70/70 - 0s - loss: 0.0835 - val_loss: 0.0911\n",
      "Epoch 200/900\n",
      "70/70 - 0s - loss: 0.0790 - val_loss: 0.0964\n",
      "Epoch 201/900\n",
      "70/70 - 0s - loss: 0.0909 - val_loss: 0.1053\n",
      "Epoch 202/900\n",
      "70/70 - 0s - loss: 0.0874 - val_loss: 0.1088\n",
      "Epoch 203/900\n",
      "70/70 - 0s - loss: 0.0905 - val_loss: 0.0973\n",
      "Epoch 204/900\n",
      "70/70 - 0s - loss: 0.0900 - val_loss: 0.1116\n",
      "Epoch 205/900\n",
      "70/70 - 0s - loss: 0.0986 - val_loss: 0.1382\n",
      "Epoch 206/900\n",
      "70/70 - 0s - loss: 0.1001 - val_loss: 0.1101\n",
      "Epoch 207/900\n",
      "70/70 - 0s - loss: 0.1154 - val_loss: 0.1067\n",
      "Epoch 208/900\n",
      "70/70 - 0s - loss: 0.1039 - val_loss: 0.1211\n",
      "Epoch 209/900\n",
      "70/70 - 0s - loss: 0.0981 - val_loss: 0.1005\n",
      "Epoch 210/900\n",
      "70/70 - 0s - loss: 0.0954 - val_loss: 0.0979\n",
      "Epoch 211/900\n",
      "70/70 - 0s - loss: 0.0939 - val_loss: 0.0861\n",
      "Epoch 212/900\n",
      "70/70 - 0s - loss: 0.0919 - val_loss: 0.0865\n",
      "Epoch 213/900\n",
      "70/70 - 0s - loss: 0.0796 - val_loss: 0.0953\n",
      "Epoch 214/900\n",
      "70/70 - 0s - loss: 0.0835 - val_loss: 0.0927\n",
      "Epoch 215/900\n",
      "70/70 - 0s - loss: 0.1063 - val_loss: 0.1162\n",
      "Epoch 216/900\n",
      "70/70 - 0s - loss: 0.0883 - val_loss: 0.0806\n",
      "Epoch 217/900\n",
      "70/70 - 0s - loss: 0.0832 - val_loss: 0.0920\n",
      "Epoch 218/900\n",
      "70/70 - 0s - loss: 0.0947 - val_loss: 0.0874\n",
      "Epoch 219/900\n",
      "70/70 - 0s - loss: 0.1186 - val_loss: 0.0741\n",
      "Epoch 220/900\n",
      "70/70 - 0s - loss: 0.0797 - val_loss: 0.0953\n",
      "Epoch 221/900\n",
      "70/70 - 0s - loss: 0.0847 - val_loss: 0.0982\n",
      "Epoch 222/900\n",
      "70/70 - 0s - loss: 0.0750 - val_loss: 0.0965\n",
      "Epoch 223/900\n",
      "70/70 - 0s - loss: 0.0781 - val_loss: 0.1103\n",
      "Epoch 224/900\n",
      "70/70 - 0s - loss: 0.0833 - val_loss: 0.0901\n",
      "Epoch 225/900\n",
      "70/70 - 0s - loss: 0.1141 - val_loss: 0.0990\n",
      "Epoch 226/900\n",
      "70/70 - 0s - loss: 0.1410 - val_loss: 0.1684\n",
      "Epoch 227/900\n",
      "70/70 - 0s - loss: 0.1008 - val_loss: 0.0953\n",
      "Epoch 228/900\n",
      "70/70 - 0s - loss: 0.0889 - val_loss: 0.1050\n",
      "Epoch 229/900\n",
      "70/70 - 0s - loss: 0.0850 - val_loss: 0.0857\n",
      "Epoch 230/900\n",
      "70/70 - 0s - loss: 0.0872 - val_loss: 0.0984\n",
      "Epoch 231/900\n",
      "70/70 - 0s - loss: 0.0948 - val_loss: 0.0727\n",
      "Epoch 232/900\n",
      "70/70 - 0s - loss: 0.0786 - val_loss: 0.1093\n",
      "Epoch 233/900\n",
      "70/70 - 0s - loss: 0.0809 - val_loss: 0.0692\n",
      "Epoch 234/900\n",
      "70/70 - 0s - loss: 0.0826 - val_loss: 0.1106\n",
      "Epoch 235/900\n",
      "70/70 - 0s - loss: 0.1008 - val_loss: 0.0945\n",
      "Epoch 236/900\n",
      "70/70 - 0s - loss: 0.0978 - val_loss: 0.0818\n",
      "Epoch 237/900\n",
      "70/70 - 0s - loss: 0.0800 - val_loss: 0.0940\n",
      "Epoch 238/900\n",
      "70/70 - 0s - loss: 0.0835 - val_loss: 0.0781\n",
      "Epoch 239/900\n",
      "70/70 - 0s - loss: 0.0767 - val_loss: 0.0989\n",
      "Epoch 240/900\n",
      "70/70 - 0s - loss: 0.1071 - val_loss: 0.1122\n",
      "Epoch 241/900\n",
      "70/70 - 0s - loss: 0.1061 - val_loss: 0.0961\n",
      "Epoch 242/900\n",
      "70/70 - 0s - loss: 0.1001 - val_loss: 0.1018\n",
      "Epoch 243/900\n",
      "70/70 - 0s - loss: 0.0876 - val_loss: 0.0939\n",
      "Epoch 244/900\n",
      "70/70 - 0s - loss: 0.0983 - val_loss: 0.0885\n",
      "Epoch 245/900\n",
      "70/70 - 0s - loss: 0.0822 - val_loss: 0.0939\n",
      "Epoch 246/900\n",
      "70/70 - 0s - loss: 0.0876 - val_loss: 0.1016\n",
      "Epoch 247/900\n",
      "70/70 - 0s - loss: 0.0741 - val_loss: 0.0900\n",
      "Epoch 248/900\n",
      "70/70 - 0s - loss: 0.0946 - val_loss: 0.1017\n",
      "Epoch 249/900\n",
      "70/70 - 0s - loss: 0.0874 - val_loss: 0.1000\n",
      "Epoch 250/900\n",
      "70/70 - 0s - loss: 0.0794 - val_loss: 0.0794\n",
      "Epoch 251/900\n",
      "70/70 - 0s - loss: 0.0767 - val_loss: 0.1403\n",
      "Epoch 252/900\n",
      "70/70 - 0s - loss: 0.1068 - val_loss: 0.0835\n",
      "Epoch 253/900\n",
      "70/70 - 0s - loss: 0.0989 - val_loss: 0.1038\n",
      "Epoch 254/900\n",
      "70/70 - 0s - loss: 0.1134 - val_loss: 0.1448\n",
      "Epoch 255/900\n",
      "70/70 - 0s - loss: 0.1111 - val_loss: 0.0724\n",
      "Epoch 256/900\n",
      "70/70 - 0s - loss: 0.0800 - val_loss: 0.0941\n",
      "Epoch 257/900\n",
      "70/70 - 0s - loss: 0.0831 - val_loss: 0.0747\n",
      "Epoch 258/900\n",
      "70/70 - 0s - loss: 0.0853 - val_loss: 0.0732\n",
      "Epoch 259/900\n",
      "70/70 - 0s - loss: 0.0841 - val_loss: 0.1041\n",
      "Epoch 260/900\n",
      "70/70 - 0s - loss: 0.0841 - val_loss: 0.0871\n",
      "Epoch 261/900\n",
      "70/70 - 0s - loss: 0.0927 - val_loss: 0.0833\n",
      "Epoch 262/900\n",
      "70/70 - 0s - loss: 0.0860 - val_loss: 0.0991\n",
      "Epoch 263/900\n",
      "70/70 - 0s - loss: 0.0749 - val_loss: 0.0809\n",
      "Epoch 264/900\n",
      "70/70 - 0s - loss: 0.0705 - val_loss: 0.0961\n",
      "Epoch 265/900\n",
      "70/70 - 0s - loss: 0.0736 - val_loss: 0.0905\n",
      "Epoch 266/900\n",
      "70/70 - 0s - loss: 0.0730 - val_loss: 0.0917\n",
      "Epoch 267/900\n",
      "70/70 - 0s - loss: 0.0822 - val_loss: 0.1151\n",
      "Epoch 268/900\n",
      "70/70 - 0s - loss: 0.0973 - val_loss: 0.1063\n",
      "Epoch 269/900\n",
      "70/70 - 0s - loss: 0.1154 - val_loss: 0.0843\n",
      "Epoch 270/900\n",
      "70/70 - 0s - loss: 0.0840 - val_loss: 0.0944\n",
      "Epoch 271/900\n",
      "70/70 - 0s - loss: 0.1087 - val_loss: 0.1064\n",
      "Epoch 272/900\n",
      "70/70 - 0s - loss: 0.0844 - val_loss: 0.0867\n",
      "Epoch 273/900\n",
      "70/70 - 0s - loss: 0.0809 - val_loss: 0.1018\n",
      "Epoch 274/900\n",
      "70/70 - 0s - loss: 0.0700 - val_loss: 0.0888\n",
      "Epoch 275/900\n",
      "70/70 - 0s - loss: 0.0674 - val_loss: 0.0863\n",
      "Epoch 276/900\n",
      "70/70 - 0s - loss: 0.0747 - val_loss: 0.0715\n",
      "Epoch 277/900\n",
      "70/70 - 0s - loss: 0.0816 - val_loss: 0.1097\n",
      "Epoch 278/900\n",
      "70/70 - 0s - loss: 0.0829 - val_loss: 0.1135\n",
      "Epoch 279/900\n",
      "70/70 - 0s - loss: 0.1049 - val_loss: 0.0923\n"
     ]
    },
    {
     "name": "stdout",
     "output_type": "stream",
     "text": [
      "Epoch 280/900\n",
      "70/70 - 0s - loss: 0.1230 - val_loss: 0.1334\n",
      "Epoch 281/900\n",
      "70/70 - 0s - loss: 0.1081 - val_loss: 0.0953\n",
      "Epoch 282/900\n",
      "70/70 - 0s - loss: 0.0849 - val_loss: 0.0877\n",
      "Epoch 283/900\n",
      "70/70 - 0s - loss: 0.0726 - val_loss: 0.1012\n",
      "Epoch 284/900\n",
      "70/70 - 0s - loss: 0.0808 - val_loss: 0.1058\n",
      "Epoch 285/900\n",
      "70/70 - 0s - loss: 0.0717 - val_loss: 0.0822\n",
      "Epoch 286/900\n",
      "70/70 - 0s - loss: 0.0757 - val_loss: 0.0835\n",
      "Epoch 287/900\n",
      "70/70 - 0s - loss: 0.0817 - val_loss: 0.1023\n",
      "Epoch 288/900\n",
      "70/70 - 0s - loss: 0.0751 - val_loss: 0.0744\n",
      "Epoch 289/900\n",
      "70/70 - 0s - loss: 0.0895 - val_loss: 0.1080\n",
      "Epoch 290/900\n",
      "70/70 - 0s - loss: 0.0769 - val_loss: 0.1150\n",
      "Epoch 291/900\n",
      "70/70 - 0s - loss: 0.0708 - val_loss: 0.0836\n"
     ]
    },
    {
     "data": {
      "text/plain": [
       "<tensorflow.python.keras.callbacks.History at 0x18682f60>"
      ]
     },
     "execution_count": 116,
     "metadata": {},
     "output_type": "execute_result"
    }
   ],
   "source": [
    "# Set the input and output sizes\n",
    "input_size = 3\n",
    "output_size = 1\n",
    "# Use same hidden layer size for both hidden layers. Not a necessity.\n",
    "hidden_layer_size = 50\n",
    "    \n",
    "# define how the model will look like\n",
    "model = tf.keras.Sequential([\n",
    "   \n",
    "    tf.keras.layers.Dense(hidden_layer_size,'relu'),\n",
    "    tf.keras.layers.Dense(hidden_layer_size,'relu'),\n",
    "\n",
    "    tf.keras.layers.Dense(output_size,'linear') # output layer\n",
    "])\n",
    "\n",
    "\n",
    "# Choose the optimizer and the loss function\n",
    "\n",
    "\n",
    "optimizer = tf.keras.optimizers.Adam(learning_rate=0.02)\n",
    "\n",
    "model.compile(optimizer, loss='MAE')\n",
    "\n",
    "# Training\n",
    "\n",
    "# set the batch size\n",
    "batch_size = 5\n",
    "\n",
    "# set a maximum number of training epochs\n",
    "max_epochs = 900\n",
    "\n",
    "# set an early stopping mechanism\n",
    "early_stopping = tf.keras.callbacks.EarlyStopping(patience=100)\n",
    "\n",
    "\n",
    "model.fit(train_inputs, # train inputs\n",
    "          train_targets, # train targets\n",
    "          batch_size=batch_size, # batch size\n",
    "          epochs=max_epochs,\n",
    "          callbacks=[early_stopping],\n",
    "          validation_data=(validation_inputs, validation_targets), # validation data\n",
    "          verbose = 2 # making sure we get enough information about the training process\n",
    "          )  "
   ]
  },
  {
   "cell_type": "code",
   "execution_count": 123,
   "metadata": {},
   "outputs": [
    {
     "name": "stdout",
     "output_type": "stream",
     "text": [
      "\r",
      "17/17 [==============================] - 0s 4ms/sample - loss: 0.0394\n"
     ]
    },
    {
     "data": {
      "text/plain": [
       "0.03940813988447189"
      ]
     },
     "execution_count": 123,
     "metadata": {},
     "output_type": "execute_result"
    }
   ],
   "source": [
    "model.evaluate(test_inputs,test_targets)"
   ]
  },
  {
   "cell_type": "markdown",
   "metadata": {},
   "source": [
    "# train data evaluation"
   ]
  },
  {
   "cell_type": "code",
   "execution_count": 124,
   "metadata": {},
   "outputs": [
    {
     "data": {
      "text/plain": [
       "array([0.13, 0.51, 0.19, 0.88, 0.26, 0.42, 0.18, 0.55, 0.13, 0.3 , 0.3 ,\n",
       "       0.51, 0.13, 0.07, 0.13, 0.14, 0.43, 0.24, 0.18, 0.15, 0.46, 0.23,\n",
       "       0.16, 0.14, 0.39, 0.17, 0.87, 0.45, 0.13, 0.13, 0.31, 0.37, 0.52,\n",
       "       0.37, 0.24, 0.15, 0.43, 0.85, 0.4 , 0.32, 0.13, 0.09, 0.31, 0.53,\n",
       "       0.13, 0.31, 0.35, 0.32, 0.3 , 0.3 , 0.19, 0.11, 0.45, 0.08, 0.21,\n",
       "       0.5 , 0.22, 0.28, 0.43, 0.48, 0.31, 0.13, 0.51, 0.15, 0.25, 0.52,\n",
       "       0.53, 0.27, 0.86, 0.11, 0.44, 0.15, 0.18, 0.13, 0.49, 0.11, 0.23],\n",
       "      dtype=float32)"
      ]
     },
     "execution_count": 124,
     "metadata": {},
     "output_type": "execute_result"
    }
   ],
   "source": [
    "train_outputs=np.squeeze(model.predict_on_batch(train_inputs)).round(2)\n",
    "train_outputs"
   ]
  },
  {
   "cell_type": "code",
   "execution_count": 125,
   "metadata": {},
   "outputs": [
    {
     "data": {
      "text/plain": [
       "array([[0.08],\n",
       "       [0.56],\n",
       "       [0.18],\n",
       "       [0.97],\n",
       "       [0.29],\n",
       "       [0.51],\n",
       "       [0.05],\n",
       "       [0.59],\n",
       "       [0.12],\n",
       "       [0.32],\n",
       "       [0.29],\n",
       "       [0.56],\n",
       "       [0.1 ],\n",
       "       [0.06],\n",
       "       [0.11],\n",
       "       [0.15],\n",
       "       [0.76],\n",
       "       [0.23],\n",
       "       [0.13],\n",
       "       [0.1 ],\n",
       "       [0.46],\n",
       "       [0.29],\n",
       "       [0.16],\n",
       "       [0.14],\n",
       "       [0.4 ],\n",
       "       [0.17],\n",
       "       [0.97],\n",
       "       [0.47],\n",
       "       [0.06],\n",
       "       [0.09],\n",
       "       [0.3 ],\n",
       "       [0.45],\n",
       "       [0.53],\n",
       "       [0.27],\n",
       "       [0.26],\n",
       "       [0.13],\n",
       "       [0.43],\n",
       "       [0.97],\n",
       "       [0.39],\n",
       "       [0.37],\n",
       "       [0.09],\n",
       "       [0.07],\n",
       "       [0.31],\n",
       "       [0.56],\n",
       "       [0.17],\n",
       "       [0.37],\n",
       "       [0.36],\n",
       "       [0.37],\n",
       "       [0.33],\n",
       "       [0.35],\n",
       "       [0.21],\n",
       "       [0.08],\n",
       "       [0.43],\n",
       "       [0.09],\n",
       "       [0.2 ],\n",
       "       [0.56],\n",
       "       [0.23],\n",
       "       [0.18],\n",
       "       [0.51],\n",
       "       [0.62],\n",
       "       [0.31],\n",
       "       [0.1 ],\n",
       "       [0.56],\n",
       "       [0.17],\n",
       "       [0.36],\n",
       "       [0.56],\n",
       "       [0.56],\n",
       "       [0.24],\n",
       "       [0.97],\n",
       "       [0.04],\n",
       "       [0.43],\n",
       "       [0.12],\n",
       "       [0.18],\n",
       "       [0.13],\n",
       "       [0.56],\n",
       "       [0.08],\n",
       "       [0.23]])"
      ]
     },
     "execution_count": 125,
     "metadata": {},
     "output_type": "execute_result"
    }
   ],
   "source": [
    "train_targets.round(2)"
   ]
  },
  {
   "cell_type": "code",
   "execution_count": 126,
   "metadata": {},
   "outputs": [
    {
     "data": {
      "image/png": "[encoded data removed]",
      "text/plain": [
       "<Figure size 432x288 with 1 Axes>"
      ]
     },
     "metadata": {},
     "output_type": "display_data"
    }
   ],
   "source": [
    "import matplotlib.pyplot as plt\n",
    "plt.scatter(train_outputs,train_targets,label='data')\n",
    "x= train_outputs\n",
    "y=train_targets\n",
    "m, b = np.polyfit(x, y, 1)\n",
    "plt.plot(x, m*x + b,'r',label='fit')\n",
    "plt.legend(loc='lower right',title='R_squared=0.996',fontsize=10)\n",
    "plt.title('Training',fontsize=20)\n",
    "plt.xlabel('train_outputs',fontsize=20)\n",
    "plt.ylabel('train_targets',fontsize=20)\n",
    "plt.xlim(0,1)\n",
    "plt.ylim(0,1)\n",
    "plt.grid(True)\n",
    "plt.show()"
   ]
  },
  {
   "cell_type": "code",
   "execution_count": 127,
   "metadata": {},
   "outputs": [
    {
     "data": {
      "text/html": [
       "<table class=\"simpletable\">\n",
       "<caption>OLS Regression Results</caption>\n",
       "<tr>\n",
       "  <th>Dep. Variable:</th>            <td>y</td>        <th>  R-squared:         </th> <td>   0.948</td>\n",
       "</tr>\n",
       "<tr>\n",
       "  <th>Model:</th>                   <td>OLS</td>       <th>  Adj. R-squared:    </th> <td>   0.948</td>\n",
       "</tr>\n",
       "<tr>\n",
       "  <th>Method:</th>             <td>Least Squares</td>  <th>  F-statistic:       </th> <td>   1377.</td>\n",
       "</tr>\n",
       "<tr>\n",
       "  <th>Date:</th>             <td>Fri, 26 Mar 2021</td> <th>  Prob (F-statistic):</th> <td>5.21e-50</td>\n",
       "</tr>\n",
       "<tr>\n",
       "  <th>Time:</th>                 <td>18:03:24</td>     <th>  Log-Likelihood:    </th> <td>  118.07</td>\n",
       "</tr>\n",
       "<tr>\n",
       "  <th>No. Observations:</th>      <td>    77</td>      <th>  AIC:               </th> <td>  -232.1</td>\n",
       "</tr>\n",
       "<tr>\n",
       "  <th>Df Residuals:</th>          <td>    75</td>      <th>  BIC:               </th> <td>  -227.4</td>\n",
       "</tr>\n",
       "<tr>\n",
       "  <th>Df Model:</th>              <td>     1</td>      <th>                     </th>     <td> </td>   \n",
       "</tr>\n",
       "<tr>\n",
       "  <th>Covariance Type:</th>      <td>nonrobust</td>    <th>                     </th>     <td> </td>   \n",
       "</tr>\n",
       "</table>\n",
       "<table class=\"simpletable\">\n",
       "<tr>\n",
       "    <td></td>       <th>coef</th>     <th>std err</th>      <th>t</th>      <th>P>|t|</th>  <th>[0.025</th>    <th>0.975]</th>  \n",
       "</tr>\n",
       "<tr>\n",
       "  <th>const</th> <td>   -0.0398</td> <td>    0.012</td> <td>   -3.439</td> <td> 0.001</td> <td>   -0.063</td> <td>   -0.017</td>\n",
       "</tr>\n",
       "<tr>\n",
       "  <th>x1</th>    <td>    1.1767</td> <td>    0.032</td> <td>   37.106</td> <td> 0.000</td> <td>    1.113</td> <td>    1.240</td>\n",
       "</tr>\n",
       "</table>\n",
       "<table class=\"simpletable\">\n",
       "<tr>\n",
       "  <th>Omnibus:</th>       <td>59.100</td> <th>  Durbin-Watson:     </th> <td>   1.922</td> \n",
       "</tr>\n",
       "<tr>\n",
       "  <th>Prob(Omnibus):</th> <td> 0.000</td> <th>  Jarque-Bera (JB):  </th> <td> 501.921</td> \n",
       "</tr>\n",
       "<tr>\n",
       "  <th>Skew:</th>          <td> 2.052</td> <th>  Prob(JB):          </th> <td>1.02e-109</td>\n",
       "</tr>\n",
       "<tr>\n",
       "  <th>Kurtosis:</th>      <td>14.815</td> <th>  Cond. No.          </th> <td>    5.79</td> \n",
       "</tr>\n",
       "</table><br/><br/>Notes:<br/>[1] Standard Errors assume that the covariance matrix of the errors is correctly specified."
      ],
      "text/plain": [
       "<class 'statsmodels.iolib.summary.Summary'>\n",
       "\"\"\"\n",
       "                            OLS Regression Results                            \n",
       "==============================================================================\n",
       "Dep. Variable:                      y   R-squared:                       0.948\n",
       "Model:                            OLS   Adj. R-squared:                  0.948\n",
       "Method:                 Least Squares   F-statistic:                     1377.\n",
       "Date:                Fri, 26 Mar 2021   Prob (F-statistic):           5.21e-50\n",
       "Time:                        18:03:24   Log-Likelihood:                 118.07\n",
       "No. Observations:                  77   AIC:                            -232.1\n",
       "Df Residuals:                      75   BIC:                            -227.4\n",
       "Df Model:                           1                                         \n",
       "Covariance Type:            nonrobust                                         \n",
       "==============================================================================\n",
       "                 coef    std err          t      P>|t|      [0.025      0.975]\n",
       "------------------------------------------------------------------------------\n",
       "const         -0.0398      0.012     -3.439      0.001      -0.063      -0.017\n",
       "x1             1.1767      0.032     37.106      0.000       1.113       1.240\n",
       "==============================================================================\n",
       "Omnibus:                       59.100   Durbin-Watson:                   1.922\n",
       "Prob(Omnibus):                  0.000   Jarque-Bera (JB):              501.921\n",
       "Skew:                           2.052   Prob(JB):                    1.02e-109\n",
       "Kurtosis:                      14.815   Cond. No.                         5.79\n",
       "==============================================================================\n",
       "\n",
       "Notes:\n",
       "[1] Standard Errors assume that the covariance matrix of the errors is correctly specified.\n",
       "\"\"\""
      ]
     },
     "execution_count": 127,
     "metadata": {},
     "output_type": "execute_result"
    }
   ],
   "source": [
    "b = train_targets\n",
    "a1 = train_outputs\n",
    "a = sm.add_constant(a1)\n",
    "results = sm.OLS(b,a).fit()\n",
    "results.summary()"
   ]
  },
  {
   "cell_type": "markdown",
   "metadata": {},
   "source": [
    "# Test data evaluation"
   ]
  },
  {
   "cell_type": "code",
   "execution_count": 128,
   "metadata": {},
   "outputs": [
    {
     "data": {
      "text/plain": [
       "array([1.01, 0.3 , 0.38, 0.14, 0.42, 0.21, 0.4 , 0.41, 0.55, 0.16, 0.49,\n",
       "       0.22, 0.52, 0.12, 0.5 , 0.2 , 0.27], dtype=float32)"
      ]
     },
     "execution_count": 128,
     "metadata": {},
     "output_type": "execute_result"
    }
   ],
   "source": [
    "test_outputs=np.squeeze(model.predict_on_batch(test_inputs)).round(2)\n",
    "test_outputs"
   ]
  },
  {
   "cell_type": "code",
   "execution_count": 129,
   "metadata": {},
   "outputs": [
    {
     "data": {
      "text/plain": [
       "array([[1.  ],\n",
       "       [0.37],\n",
       "       [0.42],\n",
       "       [0.14],\n",
       "       [0.48],\n",
       "       [0.21],\n",
       "       [0.22],\n",
       "       [0.51],\n",
       "       [0.56],\n",
       "       [0.16],\n",
       "       [0.56],\n",
       "       [0.21],\n",
       "       [0.56],\n",
       "       [0.11],\n",
       "       [0.5 ],\n",
       "       [0.22],\n",
       "       [0.23]])"
      ]
     },
     "execution_count": 129,
     "metadata": {},
     "output_type": "execute_result"
    }
   ],
   "source": [
    "test_targets.round(2)"
   ]
  },
  {
   "cell_type": "markdown",
   "metadata": {},
   "source": [
    "## Average error"
   ]
  },
  {
   "cell_type": "code",
   "execution_count": 130,
   "metadata": {},
   "outputs": [
    {
     "name": "stdout",
     "output_type": "stream",
     "text": [
      "[0.46769232] [0.00803844]\n"
     ]
    }
   ],
   "source": [
    "p=[]\n",
    "for i in range(len(test_targets)):\n",
    "    a=abs(test_targets[i]-test_outputs[i])*9.706/3.64\n",
    "    p.append(a)\n",
    "print(max(p),min(p))"
   ]
  },
  {
   "cell_type": "code",
   "execution_count": 131,
   "metadata": {},
   "outputs": [
    {
     "name": "stdout",
     "output_type": "stream",
     "text": [
      "\r",
      "17/17 [==============================] - 0s 2ms/sample - loss: 0.0394\n"
     ]
    },
    {
     "data": {
      "text/plain": [
       "('mean absolute error = 0.3824954057186842Nm^3/kg',\n",
       " 'error percentage = 10.508115541722091%')"
      ]
     },
     "execution_count": 131,
     "metadata": {},
     "output_type": "execute_result"
    }
   ],
   "source": [
    "a=model.evaluate(test_inputs,test_targets)*9.706\n",
    "b=a\n",
    "f'mean absolute error = {b}Nm^3/kg',f'error percentage = {(b/3.64)*100}%'"
   ]
  },
  {
   "cell_type": "code",
   "execution_count": 132,
   "metadata": {},
   "outputs": [
    {
     "name": "stdout",
     "output_type": "stream",
     "text": [
      "[0.88143405] [0.00081318]\n"
     ]
    }
   ],
   "source": [
    "p=[]\n",
    "for i in range(len(train_targets)):\n",
    "    a=abs(train_targets[i]-train_outputs[i])*9.706/3.64\n",
    "    p.append(a)\n",
    "print(max(p),min(p))"
   ]
  },
  {
   "cell_type": "code",
   "execution_count": 133,
   "metadata": {},
   "outputs": [
    {
     "name": "stdout",
     "output_type": "stream",
     "text": [
      "77/77 [==============================] - 0s 4ms/sample - loss: 0.0425\n"
     ]
    },
    {
     "data": {
      "text/plain": [
       "('mean absolute error = 0.4128229969383834Nm^3/kg',\n",
       " 'error percentage = 17.94882595384276%')"
      ]
     },
     "execution_count": 133,
     "metadata": {},
     "output_type": "execute_result"
    }
   ],
   "source": [
    "a=model.evaluate(train_inputs,train_targets)*9.706\n",
    "b=a\n",
    "f'mean absolute error = {b}Nm^3/kg',f'error percentage = {(b/2.3)*100}%'"
   ]
  },
  {
   "cell_type": "code",
   "execution_count": 134,
   "metadata": {},
   "outputs": [
    {
     "data": {
      "image/png": "[encoded data removed]",
      "text/plain": [
       "<Figure size 432x288 with 1 Axes>"
      ]
     },
     "metadata": {},
     "output_type": "display_data"
    }
   ],
   "source": [
    "import matplotlib.pyplot as plt\n",
    "plt.scatter(test_outputs,test_targets,label='data')\n",
    "x= test_outputs\n",
    "y=test_targets\n",
    "m, b = np.polyfit(x, y, 1)\n",
    "plt.plot(x, m*x + b,'g',label='fit')\n",
    "plt.legend(loc='lower right',title='R_squared=0.988',fontsize=10)\n",
    "plt.title('Test',fontsize=20)\n",
    "plt.xlabel('test_outputs',fontsize=20)\n",
    "plt.ylabel('test_targets',fontsize=20)\n",
    "plt.xlim(0,1)\n",
    "plt.ylim(0,1)\n",
    "plt.grid(True)\n",
    "plt.show()"
   ]
  },
  {
   "cell_type": "code",
   "execution_count": 135,
   "metadata": {},
   "outputs": [
    {
     "data": {
      "text/html": [
       "<table class=\"simpletable\">\n",
       "<caption>OLS Regression Results</caption>\n",
       "<tr>\n",
       "  <th>Dep. Variable:</th>            <td>y</td>        <th>  R-squared:         </th> <td>   0.930</td>\n",
       "</tr>\n",
       "<tr>\n",
       "  <th>Model:</th>                   <td>OLS</td>       <th>  Adj. R-squared:    </th> <td>   0.925</td>\n",
       "</tr>\n",
       "<tr>\n",
       "  <th>Method:</th>             <td>Least Squares</td>  <th>  F-statistic:       </th> <td>   198.7</td>\n",
       "</tr>\n",
       "<tr>\n",
       "  <th>Date:</th>             <td>Fri, 26 Mar 2021</td> <th>  Prob (F-statistic):</th> <td>4.66e-10</td>\n",
       "</tr>\n",
       "<tr>\n",
       "  <th>Time:</th>                 <td>18:03:43</td>     <th>  Log-Likelihood:    </th> <td>  24.037</td>\n",
       "</tr>\n",
       "<tr>\n",
       "  <th>No. Observations:</th>      <td>    17</td>      <th>  AIC:               </th> <td>  -44.07</td>\n",
       "</tr>\n",
       "<tr>\n",
       "  <th>Df Residuals:</th>          <td>    15</td>      <th>  BIC:               </th> <td>  -42.41</td>\n",
       "</tr>\n",
       "<tr>\n",
       "  <th>Df Model:</th>              <td>     1</td>      <th>                     </th>     <td> </td>   \n",
       "</tr>\n",
       "<tr>\n",
       "  <th>Covariance Type:</th>      <td>nonrobust</td>    <th>                     </th>     <td> </td>   \n",
       "</tr>\n",
       "</table>\n",
       "<table class=\"simpletable\">\n",
       "<tr>\n",
       "    <td></td>       <th>coef</th>     <th>std err</th>      <th>t</th>      <th>P>|t|</th>  <th>[0.025</th>    <th>0.975]</th>  \n",
       "</tr>\n",
       "<tr>\n",
       "  <th>const</th> <td>    0.0023</td> <td>    0.031</td> <td>    0.075</td> <td> 0.941</td> <td>   -0.063</td> <td>    0.068</td>\n",
       "</tr>\n",
       "<tr>\n",
       "  <th>x1</th>    <td>    1.0180</td> <td>    0.072</td> <td>   14.095</td> <td> 0.000</td> <td>    0.864</td> <td>    1.172</td>\n",
       "</tr>\n",
       "</table>\n",
       "<table class=\"simpletable\">\n",
       "<tr>\n",
       "  <th>Omnibus:</th>       <td>14.930</td> <th>  Durbin-Watson:     </th> <td>   2.604</td>\n",
       "</tr>\n",
       "<tr>\n",
       "  <th>Prob(Omnibus):</th> <td> 0.001</td> <th>  Jarque-Bera (JB):  </th> <td>  13.810</td>\n",
       "</tr>\n",
       "<tr>\n",
       "  <th>Skew:</th>          <td>-1.479</td> <th>  Prob(JB):          </th> <td> 0.00100</td>\n",
       "</tr>\n",
       "<tr>\n",
       "  <th>Kurtosis:</th>      <td> 6.277</td> <th>  Cond. No.          </th> <td>    5.43</td>\n",
       "</tr>\n",
       "</table><br/><br/>Notes:<br/>[1] Standard Errors assume that the covariance matrix of the errors is correctly specified."
      ],
      "text/plain": [
       "<class 'statsmodels.iolib.summary.Summary'>\n",
       "\"\"\"\n",
       "                            OLS Regression Results                            \n",
       "==============================================================================\n",
       "Dep. Variable:                      y   R-squared:                       0.930\n",
       "Model:                            OLS   Adj. R-squared:                  0.925\n",
       "Method:                 Least Squares   F-statistic:                     198.7\n",
       "Date:                Fri, 26 Mar 2021   Prob (F-statistic):           4.66e-10\n",
       "Time:                        18:03:43   Log-Likelihood:                 24.037\n",
       "No. Observations:                  17   AIC:                            -44.07\n",
       "Df Residuals:                      15   BIC:                            -42.41\n",
       "Df Model:                           1                                         \n",
       "Covariance Type:            nonrobust                                         \n",
       "==============================================================================\n",
       "                 coef    std err          t      P>|t|      [0.025      0.975]\n",
       "------------------------------------------------------------------------------\n",
       "const          0.0023      0.031      0.075      0.941      -0.063       0.068\n",
       "x1             1.0180      0.072     14.095      0.000       0.864       1.172\n",
       "==============================================================================\n",
       "Omnibus:                       14.930   Durbin-Watson:                   2.604\n",
       "Prob(Omnibus):                  0.001   Jarque-Bera (JB):               13.810\n",
       "Skew:                          -1.479   Prob(JB):                      0.00100\n",
       "Kurtosis:                       6.277   Cond. No.                         5.43\n",
       "==============================================================================\n",
       "\n",
       "Notes:\n",
       "[1] Standard Errors assume that the covariance matrix of the errors is correctly specified.\n",
       "\"\"\""
      ]
     },
     "execution_count": 135,
     "metadata": {},
     "output_type": "execute_result"
    }
   ],
   "source": [
    "y = test_targets\n",
    "x1 = test_outputs\n",
    "x = sm.add_constant(x1)\n",
    "results = sm.OLS(y,x).fit()\n",
    "results.summary()"
   ]
  },
  {
   "cell_type": "markdown",
   "metadata": {},
   "source": [
    "### Saving the model"
   ]
  },
  {
   "cell_type": "code",
   "execution_count": 125,
   "metadata": {},
   "outputs": [],
   "source": [
    "model.save('Gasification_LHV_model_total.h5') "
   ]
  },
  {
   "cell_type": "markdown",
   "metadata": {},
   "source": [
    "### Retrieving the model"
   ]
  },
  {
   "cell_type": "code",
   "execution_count": 3,
   "metadata": {},
   "outputs": [],
   "source": [
    "model = tf.keras.models.load_model('Gasification_LHV_model.h5')"
   ]
  },
  {
   "cell_type": "code",
   "execution_count": 4,
   "metadata": {},
   "outputs": [],
   "source": [
    "import joblib\n",
    "trans1=joblib.load('f1')\n",
    "trans2=joblib.load('f2')"
   ]
  },
  {
   "cell_type": "markdown",
   "metadata": {},
   "source": [
    "### Model deployment"
   ]
  },
  {
   "cell_type": "code",
   "execution_count": 8,
   "metadata": {},
   "outputs": [
    {
     "name": "stdout",
     "output_type": "stream",
     "text": [
      "enter your carbon percentage%:>>>44\n",
      "enter your hydrogen  percentage%:>>>34\n",
      "enter your oxygen  percentage%:>>>12\n",
      "enter your ash  percentage%:>>>44\n",
      "enter your temperature in c :>>>700\n",
      "enter your equivalence ratio :>>>0.6\n",
      "[[1.3375412]] your LHV MJ/Nm3 equals[[13.350175]]\n"
     ]
    }
   ],
   "source": [
    "C=float(input('enter your carbon percentage%:>>>'))\n",
    "H=float(input('enter your hydrogen  percentage%:>>>'))\n",
    "O=float(input('enter your oxygen  percentage%:>>>'))\n",
    "A=float(input('enter your ash  percentage%:>>>'))\n",
    "T=float(input('enter your temperature in c :>>>'))\n",
    "ER=float(input('enter your equivalence ratio :>>>'))\n",
    "\n",
    "\n",
    "a=np.array([[C,H,O,A,T,ER],\n",
    "           ])\n",
    "\n",
    "x= trans1.transform(a)\n",
    "\n",
    "y=model.predict_on_batch(x)\n",
    "real_y= trans2.inverse_transform(y)\n",
    "\n",
    "print(y,f'your LHV MJ/Nm3 equals{real_y}')"
   ]
  },
  {
   "cell_type": "markdown",
   "metadata": {},
   "source": [
    "## Optimization of neural network using genetic algorithms"
   ]
  },
  {
   "cell_type": "code",
   "execution_count": 9,
   "metadata": {},
   "outputs": [],
   "source": [
    "from scipy.optimize import minimize\n",
    "from scipy.optimize import differential_evolution\n",
    "from scipy.optimize import dual_annealing\n",
    "from scipy.optimize import NonlinearConstraint\n",
    "import warnings\n",
    "warnings.filterwarnings(\"ignore\")\n",
    "np.set_printoptions(suppress=True)"
   ]
  },
  {
   "cell_type": "markdown",
   "metadata": {},
   "source": [
    "### Dual annealing optimizer"
   ]
  },
  {
   "cell_type": "code",
   "execution_count": 16,
   "metadata": {},
   "outputs": [
    {
     "name": "stdout",
     "output_type": "stream",
     "text": [
      "     fun: -3.0962164402008057\n",
      " message: ['Maximum number of iteration reached']\n",
      "    nfev: 10336\n",
      "    nhev: 0\n",
      "     nit: 800\n",
      "    njev: 105\n",
      "  status: 0\n",
      " success: True\n",
      "       x: array([0.00046484, 0.000344  , 0.99983531, 0.18023312, 0.511318  ,\n",
      "       0.24387005])\n"
     ]
    }
   ],
   "source": [
    "def objective(x, sign=-1.0):  \n",
    "    \n",
    "    z=np.array([x,])\n",
    "    y=model.predict_on_batch(z)\n",
    "    return float(np.squeeze(sign*y))\n",
    "\n",
    "\n",
    "\n",
    "b1 = (0.,1.)\n",
    "b2 = (0.,1.)\n",
    "b3 = (0.,1.)\n",
    "b4 = (0.,1.)\n",
    "b5 = (0.,1.)\n",
    "b6=  (0.,1.)\n",
    "\n",
    "\n",
    "bnds= (b1,b2,b3,b4,b5,b6)\n",
    "# x0=[0.9999,0.1221,0.000047,0.66769,0.7336]\n",
    "\n",
    "\n",
    "sol = dual_annealing(objective,bounds=bnds,maxiter=800)\n",
    "\n",
    "print(sol)"
   ]
  },
  {
   "cell_type": "code",
   "execution_count": 9,
   "metadata": {},
   "outputs": [
    {
     "name": "stdout",
     "output_type": "stream",
     "text": [
      "[[ 11.15001382   1.47000124  48.47         7.72746274 656.74570069\n",
      "    0.5996453 ]]\n"
     ]
    },
    {
     "data": {
      "text/plain": [
       "'the maximum gas yield equals [[30.52819936]] Nm^3/kg'"
      ]
     },
     "execution_count": 9,
     "metadata": {},
     "output_type": "execute_result"
    }
   ],
   "source": [
    "print(trans1.inverse_transform(np.array([sol.x]).reshape(1,-1)))\n",
    "f'the maximum gas yield equals {trans2.inverse_transform(np.array([-sol.fun]).reshape(-1,1))} Nm^3/kg'"
   ]
  },
  {
   "cell_type": "markdown",
   "metadata": {},
   "source": [
    "### Differential evolution optimizer"
   ]
  },
  {
   "cell_type": "code",
   "execution_count": 18,
   "metadata": {},
   "outputs": [
    {
     "name": "stdout",
     "output_type": "stream",
     "text": [
      "           constr: [array([0.])]\n",
      " constr_violation: 0.0\n",
      "              fun: -3.3472135066986084\n",
      "            maxcv: 0.0\n",
      "          message: 'Optimization terminated successfully.'\n",
      "             nfev: 5737\n",
      "              nit: 71\n",
      "          success: True\n",
      "                x: array([0.00271499, 0.00049771, 0.99912187, 0.00101484, 0.10293454,\n",
      "       0.37480962])\n"
     ]
    }
   ],
   "source": [
    "def objective(x, sign=-1.0):  \n",
    "    \n",
    "    z=np.array([x,])\n",
    "    y=model.predict_on_batch(z)\n",
    "    return float(np.squeeze(sign*y))\n",
    "\n",
    "\n",
    "def constraint1(x):\n",
    "    \n",
    "    z=np.array([x,])\n",
    "    b= list(np.squeeze(trans1.inverse_transform(z)))\n",
    "    C=b[0]\n",
    "    H=b[1]\n",
    "    O=b[2]\n",
    "    \n",
    "    return (C+H+O)\n",
    "cons= NonlinearConstraint(constraint1, 12., 100.)\n",
    "\n",
    "\n",
    "\n",
    "b1 = (0.,1.)\n",
    "b2 = (0.,1.)\n",
    "b3 = (0.,1.)\n",
    "b4 = (0.,1.)\n",
    "b5 = (0.,1.)\n",
    "b6=  (0.,1.)\n",
    "\n",
    "\n",
    "bnds= (b1,b2,b3,b4,b5,b6)\n",
    "sol1 = differential_evolution(objective,bounds=bnds,constraints=cons,maxiter=1000)\n",
    "\n",
    "print(sol1)"
   ]
  },
  {
   "cell_type": "code",
   "execution_count": 19,
   "metadata": {},
   "outputs": [
    {
     "name": "stdout",
     "output_type": "stream",
     "text": [
      "[[ 11.35275573   1.47642547  48.42743684   0.19506892 451.46726774\n",
      "    0.31866433]]\n"
     ]
    },
    {
     "data": {
      "text/plain": [
       "'the maximum gas yield equals [[32.8560543]] Mj/Nm3'"
      ]
     },
     "execution_count": 19,
     "metadata": {},
     "output_type": "execute_result"
    }
   ],
   "source": [
    "print(trans1.inverse_transform(np.array([sol1.x]).reshape(1,-1)))\n",
    "f'the maximum gas yield equals {trans2.inverse_transform(np.array([-sol1.fun]).reshape(-1,1))} Mj/Nm3'"
   ]
  },
  {
   "cell_type": "markdown",
   "metadata": {},
   "source": [
    "### Significance test"
   ]
  },
  {
   "cell_type": "code",
   "execution_count": 20,
   "metadata": {},
   "outputs": [
    {
     "name": "stdout",
     "output_type": "stream",
     "text": [
      "{'C': 0.56548, 'H': 4.14634, 'O': 4.90264, 'A': 2.22959, 'T': 0.24152, 'ER': 0.02301}\n"
     ]
    }
   ],
   "source": [
    "list1= ['C','H','O','A','T','ER']\n",
    "w=[]\n",
    "b={}\n",
    "inp=train_inputs\n",
    "inp = tf.Variable(inp, dtype=tf.float32)\n",
    "\n",
    "with tf.GradientTape() as tape:\n",
    "    preds = model(inp)\n",
    "grads = np.squeeze(tape.gradient(preds, inp))\n",
    "\n",
    "for i in range(train_inputs.shape[1]):\n",
    "    a=sum((grads[:,i])**2)/(train_inputs.shape[0])\n",
    "    w.append(a.round(5))\n",
    "for i in range(train_inputs.shape[1]):\n",
    "    b[list1[i]]=w[i]\n",
    "print(b)"
   ]
  },
  {
   "cell_type": "code",
   "execution_count": 21,
   "metadata": {},
   "outputs": [
    {
     "name": "stdout",
     "output_type": "stream",
     "text": [
      "[0.047, 0.342, 0.405, 0.184, 0.02, 0.002]\n"
     ]
    }
   ],
   "source": [
    "t=[]\n",
    "for i in w:\n",
    "    t.append((i/sum(w)).round(3))\n",
    "print(t)"
   ]
  },
  {
   "cell_type": "code",
   "execution_count": 22,
   "metadata": {},
   "outputs": [
    {
     "data": {
      "text/plain": [
       "[Text(0.5, 0, 'variables'), Text(0, 0.5, 'sensitivity')]"
      ]
     },
     "execution_count": 22,
     "metadata": {},
     "output_type": "execute_result"
    },
    {
     "data": {
      "image/png": "[encoded data removed]",
      "text/plain": [
       "<Figure size 432x288 with 1 Axes>"
      ]
     },
     "metadata": {},
     "output_type": "display_data"
    }
   ],
   "source": [
    "import seaborn as sns\n",
    "sns.set()\n",
    "sns.barplot(x=list1,y=t).set(xlabel='variables',ylabel='sensitivity')"
   ]
  },
  {
   "cell_type": "code",
   "execution_count": null,
   "metadata": {},
   "outputs": [],
   "source": []
  }
 ],
 "metadata": {
  "kernelspec": {
   "display_name": "Python 3",
   "language": "python",
   "name": "python3"
  },
  "language_info": {
   "codemirror_mode": {
    "name": "ipython",
    "version": 3
   },
   "file_extension": ".py",
   "mimetype": "text/x-python",
   "name": "python",
   "nbconvert_exporter": "python",
   "pygments_lexer": "ipython3",
   "version": "3.9.2"
  }
 },
 "nbformat": 4,
 "nbformat_minor": 2
}
